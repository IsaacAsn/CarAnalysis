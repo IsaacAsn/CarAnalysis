{
 "cells": [
  {
   "cell_type": "code",
   "execution_count": 275,
   "metadata": {},
   "outputs": [],
   "source": [
    "import pandas as pd\n",
    "import numpy as np\n",
    "import glob\n",
    "import re"
   ]
  },
  {
   "cell_type": "markdown",
   "metadata": {},
   "source": [
    "Loading Files"
   ]
  },
  {
   "cell_type": "code",
   "execution_count": 276,
   "metadata": {},
   "outputs": [],
   "source": [
    "#Loads all csv files and merges them into one dataframe.\n",
    "all_csv = glob.glob(\"*.csv\")\n",
    "cars = pd.DataFrame()\n",
    "for csv in all_csv:\n",
    "    car = pd.read_csv(csv,index_col=0)\n",
    "    cars = pd.concat([cars, car], axis=0, ignore_index=True)"
   ]
  },
  {
   "cell_type": "markdown",
   "metadata": {},
   "source": [
    "There are currently over 29000 rows in the dataset. However, this is expected to decrease after the data has been cleaned.\n",
    "There are a number of null values across most columns in the dataset. These will be removed.\n",
    "Many columns have the wrong data type. For example, the year column is currently an object, but should be an integer."
   ]
  },
  {
   "cell_type": "code",
   "execution_count": 277,
   "metadata": {},
   "outputs": [
    {
     "name": "stdout",
     "output_type": "stream",
     "text": [
      "<class 'pandas.core.frame.DataFrame'>\n",
      "RangeIndex: 29370 entries, 0 to 29369\n",
      "Data columns (total 13 columns):\n",
      " #   Column              Non-Null Count  Dtype \n",
      "---  ------              --------------  ----- \n",
      " 0   name                29328 non-null  object\n",
      " 1   year                27326 non-null  object\n",
      " 2   owners              17756 non-null  object\n",
      " 3   mileage             27316 non-null  object\n",
      " 4   litres              27272 non-null  object\n",
      " 5   BHP                 27265 non-null  object\n",
      " 6   transmission        27239 non-null  object\n",
      " 7   fuel                26997 non-null  object\n",
      " 8   price               27328 non-null  object\n",
      " 9   write_off_category  1119 non-null   object\n",
      " 10  vehicle_type        27326 non-null  object\n",
      " 11  seller_name         27799 non-null  object\n",
      " 12  location            25049 non-null  object\n",
      "dtypes: object(13)\n",
      "memory usage: 2.9+ MB\n"
     ]
    }
   ],
   "source": [
    "\n",
    "cars.info()\n"
   ]
  },
  {
   "cell_type": "code",
   "execution_count": 278,
   "metadata": {},
   "outputs": [
    {
     "data": {
      "text/html": [
       "<div>\n",
       "<style scoped>\n",
       "    .dataframe tbody tr th:only-of-type {\n",
       "        vertical-align: middle;\n",
       "    }\n",
       "\n",
       "    .dataframe tbody tr th {\n",
       "        vertical-align: top;\n",
       "    }\n",
       "\n",
       "    .dataframe thead th {\n",
       "        text-align: right;\n",
       "    }\n",
       "</style>\n",
       "<table border=\"1\" class=\"dataframe\">\n",
       "  <thead>\n",
       "    <tr style=\"text-align: right;\">\n",
       "      <th></th>\n",
       "      <th>name</th>\n",
       "      <th>year</th>\n",
       "      <th>owners</th>\n",
       "      <th>mileage</th>\n",
       "      <th>litres</th>\n",
       "      <th>BHP</th>\n",
       "      <th>transmission</th>\n",
       "      <th>fuel</th>\n",
       "      <th>price</th>\n",
       "      <th>write_off_category</th>\n",
       "      <th>vehicle_type</th>\n",
       "      <th>seller_name</th>\n",
       "      <th>location</th>\n",
       "    </tr>\n",
       "  </thead>\n",
       "  <tbody>\n",
       "    <tr>\n",
       "      <th>0</th>\n",
       "      <td>KIA Sportage</td>\n",
       "      <td>2018</td>\n",
       "      <td>NaN</td>\n",
       "      <td>23,600 miles</td>\n",
       "      <td>1.6L</td>\n",
       "      <td>176PS</td>\n",
       "      <td>Manual</td>\n",
       "      <td>Petrol</td>\n",
       "      <td>£16,990</td>\n",
       "      <td>NaN</td>\n",
       "      <td>SUV</td>\n",
       "      <td>Belfast Audi - See all 68 cars</td>\n",
       "      <td>Dealer locationBelfast</td>\n",
       "    </tr>\n",
       "    <tr>\n",
       "      <th>1</th>\n",
       "      <td>Vauxhall Astra</td>\n",
       "      <td>2007 (57 reg)</td>\n",
       "      <td>Part service history</td>\n",
       "      <td>119,000 miles</td>\n",
       "      <td>1.9L</td>\n",
       "      <td>118BHP</td>\n",
       "      <td>Automatic</td>\n",
       "      <td>Diesel</td>\n",
       "      <td>£995</td>\n",
       "      <td>NaN</td>\n",
       "      <td>Hatchback</td>\n",
       "      <td>Burch Autos - See all 30 cars</td>\n",
       "      <td>Dealer locationNewtownards</td>\n",
       "    </tr>\n",
       "    <tr>\n",
       "      <th>2</th>\n",
       "      <td>Citroen DS3</td>\n",
       "      <td>2012 (12 reg)</td>\n",
       "      <td>NaN</td>\n",
       "      <td>75,995 miles</td>\n",
       "      <td>1.6L</td>\n",
       "      <td>156BHP</td>\n",
       "      <td>Manual</td>\n",
       "      <td>Petrol</td>\n",
       "      <td>£1,493</td>\n",
       "      <td>NaN</td>\n",
       "      <td>Hatchback</td>\n",
       "      <td>Auto Sales NI - See all cars</td>\n",
       "      <td>Dealer locationNewtownabbey</td>\n",
       "    </tr>\n",
       "    <tr>\n",
       "      <th>3</th>\n",
       "      <td>Audi A3</td>\n",
       "      <td>2007 (57 reg)</td>\n",
       "      <td>NaN</td>\n",
       "      <td>98,968 miles</td>\n",
       "      <td>2.0L</td>\n",
       "      <td>168BHP</td>\n",
       "      <td>Manual</td>\n",
       "      <td>Diesel</td>\n",
       "      <td>£1,999</td>\n",
       "      <td>NaN</td>\n",
       "      <td>Hatchback</td>\n",
       "      <td>Clearly Cars - See all 17 cars</td>\n",
       "      <td>Dealer locationBelfast</td>\n",
       "    </tr>\n",
       "    <tr>\n",
       "      <th>4</th>\n",
       "      <td>Suzuki Swift</td>\n",
       "      <td>2007 (07 reg)</td>\n",
       "      <td>4 owners</td>\n",
       "      <td>67,200 miles</td>\n",
       "      <td>1.5L</td>\n",
       "      <td>101BHP</td>\n",
       "      <td>Manual</td>\n",
       "      <td>Petrol</td>\n",
       "      <td>£1,295</td>\n",
       "      <td>NaN</td>\n",
       "      <td>Hatchback</td>\n",
       "      <td>Charles Hurst Usedirect Budget Choice - See al...</td>\n",
       "      <td>Dealer locationBelfast</td>\n",
       "    </tr>\n",
       "  </tbody>\n",
       "</table>\n",
       "</div>"
      ],
      "text/plain": [
       "             name           year                owners        mileage litres  \\\n",
       "0    KIA Sportage           2018                   NaN   23,600 miles   1.6L   \n",
       "1  Vauxhall Astra  2007 (57 reg)  Part service history  119,000 miles   1.9L   \n",
       "2     Citroen DS3  2012 (12 reg)                   NaN   75,995 miles   1.6L   \n",
       "3         Audi A3  2007 (57 reg)                   NaN   98,968 miles   2.0L   \n",
       "4    Suzuki Swift  2007 (07 reg)              4 owners   67,200 miles   1.5L   \n",
       "\n",
       "      BHP transmission    fuel    price write_off_category vehicle_type  \\\n",
       "0   176PS       Manual  Petrol  £16,990                NaN          SUV   \n",
       "1  118BHP    Automatic  Diesel     £995                NaN    Hatchback   \n",
       "2  156BHP       Manual  Petrol   £1,493                NaN    Hatchback   \n",
       "3  168BHP       Manual  Diesel   £1,999                NaN    Hatchback   \n",
       "4  101BHP       Manual  Petrol   £1,295                NaN    Hatchback   \n",
       "\n",
       "                                         seller_name  \\\n",
       "0                     Belfast Audi - See all 68 cars   \n",
       "1                      Burch Autos - See all 30 cars   \n",
       "2                       Auto Sales NI - See all cars   \n",
       "3                     Clearly Cars - See all 17 cars   \n",
       "4  Charles Hurst Usedirect Budget Choice - See al...   \n",
       "\n",
       "                      location  \n",
       "0       Dealer locationBelfast  \n",
       "1   Dealer locationNewtownards  \n",
       "2  Dealer locationNewtownabbey  \n",
       "3       Dealer locationBelfast  \n",
       "4       Dealer locationBelfast  "
      ]
     },
     "execution_count": 278,
     "metadata": {},
     "output_type": "execute_result"
    }
   ],
   "source": [
    "cars.head()\n"
   ]
  },
  {
   "cell_type": "code",
   "execution_count": 279,
   "metadata": {},
   "outputs": [
    {
     "data": {
      "text/plain": [
       "18859"
      ]
     },
     "execution_count": 279,
     "metadata": {},
     "output_type": "execute_result"
    }
   ],
   "source": [
    "cars.duplicated().sum()\n",
    "# cars.duplicated(subset=[\"price\", \"owners\", \"mileage\", \"name\", \"litres\", \"fuel\", \"transmission\", \"write_off_category\", \"location\", \"seller_name\", \"BHP\"]).sum()\n"
   ]
  },
  {
   "cell_type": "code",
   "execution_count": 280,
   "metadata": {},
   "outputs": [],
   "source": [
    "# cars = cars.reset_index(drop=True)\n"
   ]
  },
  {
   "cell_type": "markdown",
   "metadata": {},
   "source": [
    "Due to the way the data was obtained there are several duplicate rows, the first step is to remove all the repeated entries."
   ]
  },
  {
   "cell_type": "code",
   "execution_count": 281,
   "metadata": {},
   "outputs": [
    {
     "data": {
      "text/plain": [
       "18859"
      ]
     },
     "execution_count": 281,
     "metadata": {},
     "output_type": "execute_result"
    }
   ],
   "source": [
    "#List duplicates\n",
    "# len(cars.duplicated())\n",
    "len(cars[cars.duplicated()])\n"
   ]
  },
  {
   "cell_type": "code",
   "execution_count": 282,
   "metadata": {},
   "outputs": [
    {
     "data": {
      "text/plain": [
       "(10511, 13)"
      ]
     },
     "execution_count": 282,
     "metadata": {},
     "output_type": "execute_result"
    }
   ],
   "source": [
    "cars.drop_duplicates(inplace=True)\n",
    "cars.shape\n"
   ]
  },
  {
   "cell_type": "markdown",
   "metadata": {},
   "source": [
    "The next step is to remove all the entries with missing values. The missing values of some columns may require further inspection, so removal will be carried out on a column by column basis."
   ]
  },
  {
   "cell_type": "markdown",
   "metadata": {},
   "source": [
    "Name Column"
   ]
  },
  {
   "cell_type": "code",
   "execution_count": 283,
   "metadata": {},
   "outputs": [],
   "source": [
    "(cars.name).isnull().sum()\n",
    "cars = cars[cars.name.notnull()]\n",
    "\n"
   ]
  },
  {
   "cell_type": "markdown",
   "metadata": {},
   "source": [
    "The web scraper also collected data on advertised cars which usually did not include much of the required information and may explain a large portion of the null values."
   ]
  },
  {
   "cell_type": "markdown",
   "metadata": {},
   "source": [
    "Price Column"
   ]
  },
  {
   "cell_type": "code",
   "execution_count": 284,
   "metadata": {},
   "outputs": [
    {
     "data": {
      "text/html": [
       "<div>\n",
       "<style scoped>\n",
       "    .dataframe tbody tr th:only-of-type {\n",
       "        vertical-align: middle;\n",
       "    }\n",
       "\n",
       "    .dataframe tbody tr th {\n",
       "        vertical-align: top;\n",
       "    }\n",
       "\n",
       "    .dataframe thead th {\n",
       "        text-align: right;\n",
       "    }\n",
       "</style>\n",
       "<table border=\"1\" class=\"dataframe\">\n",
       "  <thead>\n",
       "    <tr style=\"text-align: right;\">\n",
       "      <th></th>\n",
       "      <th>name</th>\n",
       "      <th>year</th>\n",
       "      <th>owners</th>\n",
       "      <th>mileage</th>\n",
       "      <th>litres</th>\n",
       "      <th>BHP</th>\n",
       "      <th>transmission</th>\n",
       "      <th>fuel</th>\n",
       "      <th>price</th>\n",
       "      <th>write_off_category</th>\n",
       "      <th>vehicle_type</th>\n",
       "      <th>seller_name</th>\n",
       "      <th>location</th>\n",
       "    </tr>\n",
       "  </thead>\n",
       "  <tbody>\n",
       "    <tr>\n",
       "      <th>1313</th>\n",
       "      <td>Vauxhall Corsa</td>\n",
       "      <td>NaN</td>\n",
       "      <td>NaN</td>\n",
       "      <td>NaN</td>\n",
       "      <td>NaN</td>\n",
       "      <td>NaN</td>\n",
       "      <td>NaN</td>\n",
       "      <td>NaN</td>\n",
       "      <td>NaN</td>\n",
       "      <td>NaN</td>\n",
       "      <td>NaN</td>\n",
       "      <td>See all lease deals</td>\n",
       "      <td>NaN</td>\n",
       "    </tr>\n",
       "    <tr>\n",
       "      <th>1327</th>\n",
       "      <td>SEAT Arona</td>\n",
       "      <td>NaN</td>\n",
       "      <td>NaN</td>\n",
       "      <td>NaN</td>\n",
       "      <td>NaN</td>\n",
       "      <td>NaN</td>\n",
       "      <td>NaN</td>\n",
       "      <td>NaN</td>\n",
       "      <td>NaN</td>\n",
       "      <td>NaN</td>\n",
       "      <td>NaN</td>\n",
       "      <td>See all lease deals</td>\n",
       "      <td>NaN</td>\n",
       "    </tr>\n",
       "    <tr>\n",
       "      <th>1341</th>\n",
       "      <td>Volkswagen T-Cross</td>\n",
       "      <td>NaN</td>\n",
       "      <td>NaN</td>\n",
       "      <td>NaN</td>\n",
       "      <td>NaN</td>\n",
       "      <td>NaN</td>\n",
       "      <td>NaN</td>\n",
       "      <td>NaN</td>\n",
       "      <td>NaN</td>\n",
       "      <td>NaN</td>\n",
       "      <td>NaN</td>\n",
       "      <td>See all lease deals</td>\n",
       "      <td>NaN</td>\n",
       "    </tr>\n",
       "    <tr>\n",
       "      <th>1355</th>\n",
       "      <td>Vauxhall Astra</td>\n",
       "      <td>NaN</td>\n",
       "      <td>NaN</td>\n",
       "      <td>NaN</td>\n",
       "      <td>NaN</td>\n",
       "      <td>NaN</td>\n",
       "      <td>NaN</td>\n",
       "      <td>NaN</td>\n",
       "      <td>NaN</td>\n",
       "      <td>NaN</td>\n",
       "      <td>NaN</td>\n",
       "      <td>See all lease deals</td>\n",
       "      <td>NaN</td>\n",
       "    </tr>\n",
       "    <tr>\n",
       "      <th>1369</th>\n",
       "      <td>SKODA Octavia</td>\n",
       "      <td>NaN</td>\n",
       "      <td>NaN</td>\n",
       "      <td>NaN</td>\n",
       "      <td>NaN</td>\n",
       "      <td>NaN</td>\n",
       "      <td>NaN</td>\n",
       "      <td>NaN</td>\n",
       "      <td>NaN</td>\n",
       "      <td>NaN</td>\n",
       "      <td>NaN</td>\n",
       "      <td>See all lease deals</td>\n",
       "      <td>NaN</td>\n",
       "    </tr>\n",
       "    <tr>\n",
       "      <th>...</th>\n",
       "      <td>...</td>\n",
       "      <td>...</td>\n",
       "      <td>...</td>\n",
       "      <td>...</td>\n",
       "      <td>...</td>\n",
       "      <td>...</td>\n",
       "      <td>...</td>\n",
       "      <td>...</td>\n",
       "      <td>...</td>\n",
       "      <td>...</td>\n",
       "      <td>...</td>\n",
       "      <td>...</td>\n",
       "      <td>...</td>\n",
       "    </tr>\n",
       "    <tr>\n",
       "      <th>2615</th>\n",
       "      <td>SKODA Karoq</td>\n",
       "      <td>NaN</td>\n",
       "      <td>NaN</td>\n",
       "      <td>NaN</td>\n",
       "      <td>NaN</td>\n",
       "      <td>NaN</td>\n",
       "      <td>NaN</td>\n",
       "      <td>NaN</td>\n",
       "      <td>NaN</td>\n",
       "      <td>NaN</td>\n",
       "      <td>NaN</td>\n",
       "      <td>See all lease deals</td>\n",
       "      <td>NaN</td>\n",
       "    </tr>\n",
       "    <tr>\n",
       "      <th>2629</th>\n",
       "      <td>Renault Captur</td>\n",
       "      <td>NaN</td>\n",
       "      <td>NaN</td>\n",
       "      <td>NaN</td>\n",
       "      <td>NaN</td>\n",
       "      <td>NaN</td>\n",
       "      <td>NaN</td>\n",
       "      <td>NaN</td>\n",
       "      <td>NaN</td>\n",
       "      <td>NaN</td>\n",
       "      <td>NaN</td>\n",
       "      <td>See all lease deals</td>\n",
       "      <td>NaN</td>\n",
       "    </tr>\n",
       "    <tr>\n",
       "      <th>2657</th>\n",
       "      <td>SEAT Ibiza</td>\n",
       "      <td>NaN</td>\n",
       "      <td>NaN</td>\n",
       "      <td>NaN</td>\n",
       "      <td>NaN</td>\n",
       "      <td>NaN</td>\n",
       "      <td>NaN</td>\n",
       "      <td>NaN</td>\n",
       "      <td>NaN</td>\n",
       "      <td>NaN</td>\n",
       "      <td>NaN</td>\n",
       "      <td>See all lease deals</td>\n",
       "      <td>NaN</td>\n",
       "    </tr>\n",
       "    <tr>\n",
       "      <th>5499</th>\n",
       "      <td>Renault Clio</td>\n",
       "      <td>NaN</td>\n",
       "      <td>NaN</td>\n",
       "      <td>NaN</td>\n",
       "      <td>NaN</td>\n",
       "      <td>NaN</td>\n",
       "      <td>NaN</td>\n",
       "      <td>NaN</td>\n",
       "      <td>NaN</td>\n",
       "      <td>NaN</td>\n",
       "      <td>NaN</td>\n",
       "      <td>See all lease deals</td>\n",
       "      <td>NaN</td>\n",
       "    </tr>\n",
       "    <tr>\n",
       "      <th>6899</th>\n",
       "      <td>KIA Xceed</td>\n",
       "      <td>NaN</td>\n",
       "      <td>NaN</td>\n",
       "      <td>NaN</td>\n",
       "      <td>NaN</td>\n",
       "      <td>NaN</td>\n",
       "      <td>NaN</td>\n",
       "      <td>NaN</td>\n",
       "      <td>NaN</td>\n",
       "      <td>NaN</td>\n",
       "      <td>NaN</td>\n",
       "      <td>See all lease deals</td>\n",
       "      <td>NaN</td>\n",
       "    </tr>\n",
       "  </tbody>\n",
       "</table>\n",
       "<p>65 rows × 13 columns</p>\n",
       "</div>"
      ],
      "text/plain": [
       "                    name year owners mileage litres  BHP transmission fuel  \\\n",
       "1313      Vauxhall Corsa  NaN    NaN     NaN    NaN  NaN          NaN  NaN   \n",
       "1327          SEAT Arona  NaN    NaN     NaN    NaN  NaN          NaN  NaN   \n",
       "1341  Volkswagen T-Cross  NaN    NaN     NaN    NaN  NaN          NaN  NaN   \n",
       "1355      Vauxhall Astra  NaN    NaN     NaN    NaN  NaN          NaN  NaN   \n",
       "1369       SKODA Octavia  NaN    NaN     NaN    NaN  NaN          NaN  NaN   \n",
       "...                  ...  ...    ...     ...    ...  ...          ...  ...   \n",
       "2615         SKODA Karoq  NaN    NaN     NaN    NaN  NaN          NaN  NaN   \n",
       "2629      Renault Captur  NaN    NaN     NaN    NaN  NaN          NaN  NaN   \n",
       "2657          SEAT Ibiza  NaN    NaN     NaN    NaN  NaN          NaN  NaN   \n",
       "5499        Renault Clio  NaN    NaN     NaN    NaN  NaN          NaN  NaN   \n",
       "6899           KIA Xceed  NaN    NaN     NaN    NaN  NaN          NaN  NaN   \n",
       "\n",
       "     price write_off_category vehicle_type          seller_name location  \n",
       "1313   NaN                NaN          NaN  See all lease deals      NaN  \n",
       "1327   NaN                NaN          NaN  See all lease deals      NaN  \n",
       "1341   NaN                NaN          NaN  See all lease deals      NaN  \n",
       "1355   NaN                NaN          NaN  See all lease deals      NaN  \n",
       "1369   NaN                NaN          NaN  See all lease deals      NaN  \n",
       "...    ...                ...          ...                  ...      ...  \n",
       "2615   NaN                NaN          NaN  See all lease deals      NaN  \n",
       "2629   NaN                NaN          NaN  See all lease deals      NaN  \n",
       "2657   NaN                NaN          NaN  See all lease deals      NaN  \n",
       "5499   NaN                NaN          NaN  See all lease deals      NaN  \n",
       "6899   NaN                NaN          NaN  See all lease deals      NaN  \n",
       "\n",
       "[65 rows x 13 columns]"
      ]
     },
     "execution_count": 284,
     "metadata": {},
     "output_type": "execute_result"
    }
   ],
   "source": [
    "# cars[cars.price.isnull()].size\n",
    "cars[cars.price.isnull()]"
   ]
  },
  {
   "cell_type": "code",
   "execution_count": 285,
   "metadata": {},
   "outputs": [
    {
     "data": {
      "text/plain": [
       "(10417, 13)"
      ]
     },
     "execution_count": 285,
     "metadata": {},
     "output_type": "execute_result"
    }
   ],
   "source": [
    "cars = cars[cars.price.notnull()]\n",
    "cars.shape"
   ]
  },
  {
   "cell_type": "code",
   "execution_count": null,
   "metadata": {},
   "outputs": [],
   "source": [
    "#All values in the price column have a £ (Great British Pound (GBP) ) sign at the start of the string\n",
    "#The £ sign needs to be removed in order to convert the values to a float or integer\n",
    "cars.price.str[0].unique()\n",
    "cars.price = cars.price.str.replace(\"£\", \"\")\n",
    "cars.price = cars.price.str.replace(\",\", \"\")\n",
    "cars.price = cars.price.astype(float)\n"
   ]
  },
  {
   "cell_type": "markdown",
   "metadata": {},
   "source": [
    "Year Column"
   ]
  },
  {
   "cell_type": "code",
   "execution_count": 292,
   "metadata": {},
   "outputs": [
    {
     "data": {
      "text/plain": [
       "26"
      ]
     },
     "execution_count": 292,
     "metadata": {},
     "output_type": "execute_result"
    }
   ],
   "source": [
    "# cars.reset_index(drop=True, inplace=True)\n",
    "\n",
    "cars[cars.year.isnull()].size"
   ]
  },
  {
   "cell_type": "code",
   "execution_count": 293,
   "metadata": {},
   "outputs": [
    {
     "name": "stdout",
     "output_type": "stream",
     "text": [
      "<class 'pandas.core.frame.DataFrame'>\n",
      "Index: 10415 entries, 0 to 29366\n",
      "Data columns (total 13 columns):\n",
      " #   Column              Non-Null Count  Dtype \n",
      "---  ------              --------------  ----- \n",
      " 0   name                10415 non-null  object\n",
      " 1   year                10415 non-null  object\n",
      " 2   owners              6699 non-null   object\n",
      " 3   mileage             10407 non-null  object\n",
      " 4   litres              10406 non-null  object\n",
      " 5   BHP                 10402 non-null  object\n",
      " 6   transmission        10384 non-null  object\n",
      " 7   fuel                10318 non-null  object\n",
      " 8   price               10415 non-null  object\n",
      " 9   write_off_category  383 non-null    object\n",
      " 10  vehicle_type        10415 non-null  object\n",
      " 11  seller_name         9685 non-null   object\n",
      " 12  location            9076 non-null   object\n",
      "dtypes: object(13)\n",
      "memory usage: 1.1+ MB\n"
     ]
    }
   ],
   "source": [
    "cars = cars[cars.year.notnull()]\n",
    "\n",
    "cars.info()"
   ]
  },
  {
   "cell_type": "markdown",
   "metadata": {},
   "source": [
    "Some columns appear to have information from the adjacent column on the website. This is likely due to the slightly different format of the advertisments."
   ]
  },
  {
   "cell_type": "code",
   "execution_count": null,
   "metadata": {},
   "outputs": [
    {
     "data": {
      "text/plain": [
       "array(['2018', '2007 (57 reg)', '2012 (12 reg)', '2007 (07 reg)',\n",
       "       '2009 (59 reg)', '2006 (06 reg)', '2011 (61 reg)', '2013 (63 reg)',\n",
       "       '2005', '2020', '2008', '2011', '2017', '2009', '2015', '2016',\n",
       "       '2010', '2012', '2013', '2014', '2007', '1995', '1998', '2019',\n",
       "       '1999', '2006', '2021', '2004', '2022', 'Saloon', '2023',\n",
       "       'Hatchback', 'SUV', '1978', '1972', '2016 (16 reg)',\n",
       "       '2003 (03 reg)', '2012 (61 reg)', '2010 (59 reg)', '2014 (14 reg)',\n",
       "       '2018 (68 reg)', '2015 (65 reg)', '2010 (60 reg)', '2013 (13 reg)',\n",
       "       '2012 (62 reg)', '2010 (10 reg)', '2008 (08 reg)', '2001 (51 reg)',\n",
       "       '2002 (02 reg)', '2004 (54 reg)', '2019 (69 reg)', '2008 (58 reg)',\n",
       "       '2011 (11 reg)', '2006 (56 reg)', '2004 (04 reg)', '2005 (54 reg)',\n",
       "       '2017 (17 reg)', '2009 (09 reg)', '2019 (19 reg)', '2006 (55 reg)',\n",
       "       '2003 (53 reg)', '2000 (W reg)', '2008 (57 reg)', '2013 (62 reg)',\n",
       "       '1998 (R reg)', '2005 (05 reg)', '1972 (K reg)', '2009 (58 reg)',\n",
       "       '1999 (V reg)', '2000 (X reg)', '2021 (71 reg)', '2002 (51 reg)',\n",
       "       '2001 (Y reg)', '2011 (60 reg)', '2016 (66 reg)', '1998 (S reg)',\n",
       "       '1999 (T reg)', '2007 (56 reg)', '2005 (55 reg)', '2004 (53 reg)',\n",
       "       '2014 (63 reg)', '1991 (H reg)', '2001 (X reg)', '1994 (M reg)',\n",
       "       '1989 (F reg)', '2014 (64 reg)', '2021 (21 reg)', '2015 (15 reg)',\n",
       "       '1997 (P reg)', '1999 (13 reg)', '2003 (10 reg)', '1989 (G reg)',\n",
       "       '1995 (N reg)', '2002 (52 reg)', '1997 (R reg)', '1996 (N reg)',\n",
       "       '1995 (M reg)', '2000 (V reg)', '2003 (52 reg)', '2010 (69 reg)',\n",
       "       '2020 (70 reg)', '2020 (20 reg)', '2009 (60 reg)', '1993 (L reg)',\n",
       "       '1991 (J reg)', '2003 (14 reg)', '2012 (14 reg)', '2015 (64 reg)',\n",
       "       '2007 (13 reg)', '2018 (18 reg)', '2016 (65 reg)', '(54 reg)',\n",
       "       '2000', '1987 (D reg)', '2017 (67 reg)', '2019 (68 reg)',\n",
       "       '2017 (66 reg)', '2021 (70 reg)', '2020 (69 reg)', '1994 (S reg)',\n",
       "       '2022 (22 reg)', '2022 (72 reg)', '1988 (E reg)', '2019 (21 reg)',\n",
       "       '2022 (71 reg)', '2018 (67 reg)', '(66 reg)', '2023 (72 reg)',\n",
       "       '2023 (23 reg)', 2018, 2012, 2005, 2020, 2008, 2011, 2017, 2009,\n",
       "       2015, 2016, 2010, 2013, 2014, 2007, 1995, 2019, 1999, 2006, 2021,\n",
       "       2004, 2022, 2023, 1978, 2000, 1935, '1993', '1986 (D reg)',\n",
       "       '1996 (P reg)', '2014 (19 reg)', '1968 (F reg)', '2013 (18 reg)',\n",
       "       '2023 (70 reg)', '2008 (10 reg)', '1994 (L reg)', '2010 (11 reg)',\n",
       "       '1992 (J reg)', '1980 (V reg)', '2012 (18 reg)', '2008 (22 reg)',\n",
       "       '2005 (64 reg)', '1981 (W reg)', '1988 (F reg)', '1993 (K reg)',\n",
       "       '2005 (14 reg)', '1975 (N reg)', '1970 (J reg)', '1973 (L reg)',\n",
       "       '1935', '(12 reg)', '1999 (S reg)', '2019 (54 reg)',\n",
       "       '1984 (B reg)', '1987 (E reg)', '2014 (69 reg)'], dtype=object)"
      ]
     },
     "execution_count": 179,
     "metadata": {},
     "output_type": "execute_result"
    }
   ],
   "source": [
    "cars[\"year\"].unique()"
   ]
  },
  {
   "cell_type": "code",
   "execution_count": null,
   "metadata": {},
   "outputs": [
    {
     "data": {
      "text/plain": [
       "60"
      ]
     },
     "execution_count": 180,
     "metadata": {},
     "output_type": "execute_result"
    }
   ],
   "source": [
    "cars[cars[\"year\"]==\"SUV\"].size\n",
    "# cars.shape"
   ]
  },
  {
   "cell_type": "code",
   "execution_count": 288,
   "metadata": {},
   "outputs": [
    {
     "name": "stdout",
     "output_type": "stream",
     "text": [
      "                name       year owners mileage  litres     BHP transmission  \\\n",
      "764  Volkswagen Polo  Hatchback    NaN    1.0L  Manual  Petrol          NaN   \n",
      "840      Ford Fiesta  Hatchback    NaN  Manual  Petrol     NaN          NaN   \n",
      "\n",
      "    fuel  price write_off_category  vehicle_type  \\\n",
      "764  NaN  14490                NaN  31,313 miles   \n",
      "840  NaN  11995                NaN  29,552 miles   \n",
      "\n",
      "                                    seller_name                     location  \n",
      "764  Agnew Volkswagen Mallusk - See all 67 cars   Dealer locationNewtonabbey  \n",
      "840       Ballyrobert Mallusk - See all 99 cars  Dealer locationNewtownabbey  \n"
     ]
    }
   ],
   "source": [
    "print(cars[cars[\"year\"]==\"Hatchback\"])   "
   ]
  },
  {
   "cell_type": "code",
   "execution_count": 289,
   "metadata": {},
   "outputs": [
    {
     "data": {
      "text/html": [
       "<div>\n",
       "<style scoped>\n",
       "    .dataframe tbody tr th:only-of-type {\n",
       "        vertical-align: middle;\n",
       "    }\n",
       "\n",
       "    .dataframe tbody tr th {\n",
       "        vertical-align: top;\n",
       "    }\n",
       "\n",
       "    .dataframe thead th {\n",
       "        text-align: right;\n",
       "    }\n",
       "</style>\n",
       "<table border=\"1\" class=\"dataframe\">\n",
       "  <thead>\n",
       "    <tr style=\"text-align: right;\">\n",
       "      <th></th>\n",
       "      <th>name</th>\n",
       "      <th>year</th>\n",
       "      <th>owners</th>\n",
       "      <th>mileage</th>\n",
       "      <th>litres</th>\n",
       "      <th>BHP</th>\n",
       "      <th>transmission</th>\n",
       "      <th>fuel</th>\n",
       "      <th>price</th>\n",
       "      <th>write_off_category</th>\n",
       "      <th>vehicle_type</th>\n",
       "      <th>seller_name</th>\n",
       "      <th>location</th>\n",
       "    </tr>\n",
       "  </thead>\n",
       "  <tbody>\n",
       "    <tr>\n",
       "      <th>249</th>\n",
       "      <td>Mercedes-Benz S Class</td>\n",
       "      <td>Saloon</td>\n",
       "      <td>NaN</td>\n",
       "      <td>3.0L</td>\n",
       "      <td>Automatic</td>\n",
       "      <td>Diesel</td>\n",
       "      <td>1 owner</td>\n",
       "      <td>NaN</td>\n",
       "      <td>18250</td>\n",
       "      <td>NaN</td>\n",
       "      <td>92,000 miles</td>\n",
       "      <td>JGM GROUP - See all 28 cars</td>\n",
       "      <td>Dealer locationBelfast</td>\n",
       "    </tr>\n",
       "  </tbody>\n",
       "</table>\n",
       "</div>"
      ],
      "text/plain": [
       "                      name    year owners mileage     litres     BHP  \\\n",
       "249  Mercedes-Benz S Class  Saloon    NaN    3.0L  Automatic  Diesel   \n",
       "\n",
       "    transmission fuel  price write_off_category  vehicle_type  \\\n",
       "249      1 owner  NaN  18250                NaN  92,000 miles   \n",
       "\n",
       "                     seller_name                location  \n",
       "249  JGM GROUP - See all 28 cars  Dealer locationBelfast  "
      ]
     },
     "execution_count": 289,
     "metadata": {},
     "output_type": "execute_result"
    }
   ],
   "source": [
    "cars[cars[\"year\"]==\"Saloon\"]"
   ]
  },
  {
   "cell_type": "code",
   "execution_count": 287,
   "metadata": {},
   "outputs": [
    {
     "data": {
      "text/html": [
       "<div>\n",
       "<style scoped>\n",
       "    .dataframe tbody tr th:only-of-type {\n",
       "        vertical-align: middle;\n",
       "    }\n",
       "\n",
       "    .dataframe tbody tr th {\n",
       "        vertical-align: top;\n",
       "    }\n",
       "\n",
       "    .dataframe thead th {\n",
       "        text-align: right;\n",
       "    }\n",
       "</style>\n",
       "<table border=\"1\" class=\"dataframe\">\n",
       "  <thead>\n",
       "    <tr style=\"text-align: right;\">\n",
       "      <th></th>\n",
       "      <th>name</th>\n",
       "      <th>year</th>\n",
       "      <th>owners</th>\n",
       "      <th>mileage</th>\n",
       "      <th>litres</th>\n",
       "      <th>BHP</th>\n",
       "      <th>transmission</th>\n",
       "      <th>fuel</th>\n",
       "      <th>price</th>\n",
       "      <th>write_off_category</th>\n",
       "      <th>vehicle_type</th>\n",
       "      <th>seller_name</th>\n",
       "      <th>location</th>\n",
       "    </tr>\n",
       "  </thead>\n",
       "  <tbody>\n",
       "    <tr>\n",
       "      <th>0</th>\n",
       "      <td>KIA Sportage</td>\n",
       "      <td>2018</td>\n",
       "      <td>NaN</td>\n",
       "      <td>23,600 miles</td>\n",
       "      <td>1.6L</td>\n",
       "      <td>176PS</td>\n",
       "      <td>Manual</td>\n",
       "      <td>Petrol</td>\n",
       "      <td>16990</td>\n",
       "      <td>NaN</td>\n",
       "      <td>SUV</td>\n",
       "      <td>Belfast Audi - See all 68 cars</td>\n",
       "      <td>Dealer locationBelfast</td>\n",
       "    </tr>\n",
       "    <tr>\n",
       "      <th>1</th>\n",
       "      <td>Vauxhall Astra</td>\n",
       "      <td>2007 (57 reg)</td>\n",
       "      <td>Part service history</td>\n",
       "      <td>119,000 miles</td>\n",
       "      <td>1.9L</td>\n",
       "      <td>118BHP</td>\n",
       "      <td>Automatic</td>\n",
       "      <td>Diesel</td>\n",
       "      <td>995</td>\n",
       "      <td>NaN</td>\n",
       "      <td>Hatchback</td>\n",
       "      <td>Burch Autos - See all 30 cars</td>\n",
       "      <td>Dealer locationNewtownards</td>\n",
       "    </tr>\n",
       "    <tr>\n",
       "      <th>2</th>\n",
       "      <td>Citroen DS3</td>\n",
       "      <td>2012 (12 reg)</td>\n",
       "      <td>NaN</td>\n",
       "      <td>75,995 miles</td>\n",
       "      <td>1.6L</td>\n",
       "      <td>156BHP</td>\n",
       "      <td>Manual</td>\n",
       "      <td>Petrol</td>\n",
       "      <td>1493</td>\n",
       "      <td>NaN</td>\n",
       "      <td>Hatchback</td>\n",
       "      <td>Auto Sales NI - See all cars</td>\n",
       "      <td>Dealer locationNewtownabbey</td>\n",
       "    </tr>\n",
       "    <tr>\n",
       "      <th>3</th>\n",
       "      <td>Audi A3</td>\n",
       "      <td>2007 (57 reg)</td>\n",
       "      <td>NaN</td>\n",
       "      <td>98,968 miles</td>\n",
       "      <td>2.0L</td>\n",
       "      <td>168BHP</td>\n",
       "      <td>Manual</td>\n",
       "      <td>Diesel</td>\n",
       "      <td>1999</td>\n",
       "      <td>NaN</td>\n",
       "      <td>Hatchback</td>\n",
       "      <td>Clearly Cars - See all 17 cars</td>\n",
       "      <td>Dealer locationBelfast</td>\n",
       "    </tr>\n",
       "    <tr>\n",
       "      <th>4</th>\n",
       "      <td>Suzuki Swift</td>\n",
       "      <td>2007 (07 reg)</td>\n",
       "      <td>4 owners</td>\n",
       "      <td>67,200 miles</td>\n",
       "      <td>1.5L</td>\n",
       "      <td>101BHP</td>\n",
       "      <td>Manual</td>\n",
       "      <td>Petrol</td>\n",
       "      <td>1295</td>\n",
       "      <td>NaN</td>\n",
       "      <td>Hatchback</td>\n",
       "      <td>Charles Hurst Usedirect Budget Choice - See al...</td>\n",
       "      <td>Dealer locationBelfast</td>\n",
       "    </tr>\n",
       "  </tbody>\n",
       "</table>\n",
       "</div>"
      ],
      "text/plain": [
       "             name           year                owners        mileage litres  \\\n",
       "0    KIA Sportage           2018                   NaN   23,600 miles   1.6L   \n",
       "1  Vauxhall Astra  2007 (57 reg)  Part service history  119,000 miles   1.9L   \n",
       "2     Citroen DS3  2012 (12 reg)                   NaN   75,995 miles   1.6L   \n",
       "3         Audi A3  2007 (57 reg)                   NaN   98,968 miles   2.0L   \n",
       "4    Suzuki Swift  2007 (07 reg)              4 owners   67,200 miles   1.5L   \n",
       "\n",
       "      BHP transmission    fuel  price write_off_category vehicle_type  \\\n",
       "0   176PS       Manual  Petrol  16990                NaN          SUV   \n",
       "1  118BHP    Automatic  Diesel    995                NaN    Hatchback   \n",
       "2  156BHP       Manual  Petrol   1493                NaN    Hatchback   \n",
       "3  168BHP       Manual  Diesel   1999                NaN    Hatchback   \n",
       "4  101BHP       Manual  Petrol   1295                NaN    Hatchback   \n",
       "\n",
       "                                         seller_name  \\\n",
       "0                     Belfast Audi - See all 68 cars   \n",
       "1                      Burch Autos - See all 30 cars   \n",
       "2                       Auto Sales NI - See all cars   \n",
       "3                     Clearly Cars - See all 17 cars   \n",
       "4  Charles Hurst Usedirect Budget Choice - See al...   \n",
       "\n",
       "                      location  \n",
       "0       Dealer locationBelfast  \n",
       "1   Dealer locationNewtownards  \n",
       "2  Dealer locationNewtownabbey  \n",
       "3       Dealer locationBelfast  \n",
       "4       Dealer locationBelfast  "
      ]
     },
     "execution_count": 287,
     "metadata": {},
     "output_type": "execute_result"
    }
   ],
   "source": [
    "cars.head()"
   ]
  },
  {
   "cell_type": "code",
   "execution_count": null,
   "metadata": {},
   "outputs": [],
   "source": [
    "#Many of the null year values also have null values in other columns\n"
   ]
  },
  {
   "cell_type": "markdown",
   "metadata": {},
   "source": [
    "When the year is missing, the registration plate information can be used to verify the correct year for each row. https://www.theaa.com/car-buying/number-plates"
   ]
  },
  {
   "cell_type": "code",
   "execution_count": 295,
   "metadata": {},
   "outputs": [
    {
     "data": {
      "text/plain": [
       "0"
      ]
     },
     "execution_count": 295,
     "metadata": {},
     "output_type": "execute_result"
    }
   ],
   "source": [
    "cars[cars.year.str.contains('54')]\n",
    "cars.loc[cars.year.str.contains('54'), \"year\"] = \"2004\"\n",
    "cars.loc[cars.year.str.contains('66'), \"year\"] = \"2016\"\n",
    "cars.loc[cars.year.str.contains('12'), \"year\"] = \"2012\"\n",
    "cars[cars.year.isnull()].size\n"
   ]
  },
  {
   "cell_type": "code",
   "execution_count": 296,
   "metadata": {},
   "outputs": [
    {
     "data": {
      "text/plain": [
       "array(['2018', '2007 (57 reg)', '2012', '2007 (07 reg)', '2009 (59 reg)',\n",
       "       '2006 (06 reg)', '2011 (61 reg)', '2013 (63 reg)', '2005', '2020',\n",
       "       '2008', '2011', '2017', '2009', '2015', '2016', '2010', '2013',\n",
       "       '2014', '2007', '1995', '1998', '2019', '1999', '2006', '2021',\n",
       "       '2004', '2022', 'Saloon', '2023', 'Hatchback', 'SUV', '1978',\n",
       "       '1972', '2016 (16 reg)', '2003 (03 reg)', '2010 (59 reg)',\n",
       "       '2014 (14 reg)', '2018 (68 reg)', '2015 (65 reg)', '2010 (60 reg)',\n",
       "       '2013 (13 reg)', '2010 (10 reg)', '2008 (08 reg)', '2001 (51 reg)',\n",
       "       '2002 (02 reg)', '2019 (69 reg)', '2008 (58 reg)', '2011 (11 reg)',\n",
       "       '2006 (56 reg)', '2004 (04 reg)', '2017 (17 reg)', '2009 (09 reg)',\n",
       "       '2019 (19 reg)', '2006 (55 reg)', '2003 (53 reg)', '2000 (W reg)',\n",
       "       '2008 (57 reg)', '2013 (62 reg)', '1998 (R reg)', '2005 (05 reg)',\n",
       "       '1972 (K reg)', '2009 (58 reg)', '1999 (V reg)', '2000 (X reg)',\n",
       "       '2021 (71 reg)', '2002 (51 reg)', '2001 (Y reg)', '2011 (60 reg)',\n",
       "       '1998 (S reg)', '1999 (T reg)', '2007 (56 reg)', '2005 (55 reg)',\n",
       "       '2004 (53 reg)', '2014 (63 reg)', '1991 (H reg)', '2001 (X reg)',\n",
       "       '1994 (M reg)', '1989 (F reg)', '2014 (64 reg)', '2021 (21 reg)',\n",
       "       '2015 (15 reg)', '1997 (P reg)', '1999 (13 reg)', '2003 (10 reg)',\n",
       "       '1989 (G reg)', '1995 (N reg)', '2002 (52 reg)', '1997 (R reg)',\n",
       "       '1996 (N reg)', '1995 (M reg)', '2000 (V reg)', '2003 (52 reg)',\n",
       "       '2010 (69 reg)', '2020 (70 reg)', '2020 (20 reg)', '2009 (60 reg)',\n",
       "       '1993 (L reg)', '1991 (J reg)', '2003 (14 reg)', '2015 (64 reg)',\n",
       "       '2007 (13 reg)', '2018 (18 reg)', '2016 (65 reg)', '2000',\n",
       "       '1987 (D reg)', '2017 (67 reg)', '2019 (68 reg)', '2021 (70 reg)',\n",
       "       '2020 (69 reg)', '1994 (S reg)', '2022 (22 reg)', '2022 (72 reg)',\n",
       "       '1988 (E reg)', '2019 (21 reg)', '2022 (71 reg)', '2018 (67 reg)',\n",
       "       '2023 (72 reg)', '2023 (23 reg)', '1993', '1986 (D reg)',\n",
       "       '1996 (P reg)', '2014 (19 reg)', '1968 (F reg)', '2013 (18 reg)',\n",
       "       '2023 (70 reg)', '2008 (10 reg)', '1994 (L reg)', '2010 (11 reg)',\n",
       "       '1992 (J reg)', '1980 (V reg)', '2008 (22 reg)', '2005 (64 reg)',\n",
       "       '1981 (W reg)', '1988 (F reg)', '1993 (K reg)', '2005 (14 reg)',\n",
       "       '1975 (N reg)', '1970 (J reg)', '1973 (L reg)', '1935',\n",
       "       '1999 (S reg)', '1984 (B reg)', '1987 (E reg)', '2014 (69 reg)'],\n",
       "      dtype=object)"
      ]
     },
     "execution_count": 296,
     "metadata": {},
     "output_type": "execute_result"
    }
   ],
   "source": [
    "cars.year.unique()"
   ]
  },
  {
   "cell_type": "code",
   "execution_count": null,
   "metadata": {},
   "outputs": [],
   "source": [
    "#Starting with the year column \n",
    "#All years should be exactly 4 digits\n",
    "def get_year(x):\n",
    "    x = str(x)\n",
    "    if len(x) <=4:\n",
    "        return x\n",
    "    else:\n",
    "        return x[:4]\n",
    "\n",
    "#There could be some useful information regarding number plates.            (you never know)\n",
    "#If the 6th value in the string is a number then return the 6th and 7th value.\n",
    "#Retrieving the license plate of the car\n",
    "\n",
    "def get_plate(x):\n",
    "    x = str(x)\n",
    "    return x[6:8]\n",
    "cars['plate'] = cars[\"year\"].apply(get_plate)\n",
    "cars['year'] = cars[\"year\"].apply(get_year)\n",
    "\n",
    "\n"
   ]
  },
  {
   "cell_type": "code",
   "execution_count": 300,
   "metadata": {},
   "outputs": [
    {
     "data": {
      "text/plain": [
       "array(['2018', '2007', '2012', '2009', '2006', '2011', '2013', '2005',\n",
       "       '2020', '2008', '2017', '2015', '2016', '2010', '2014', '1995',\n",
       "       '1998', '2019', '1999', '2021', '2004', '2022', 'Salo', '2023',\n",
       "       'Hatc', 'SUV', '1978', '1972', '2003', '2001', '2002', '2000',\n",
       "       '1991', '1994', '1989', '1997', '1996', '1993', '1987', '1988',\n",
       "       '1986', '1968', '1992', '1980', '1981', '1975', '1970', '1973',\n",
       "       '1935', '1984'], dtype=object)"
      ]
     },
     "execution_count": 300,
     "metadata": {},
     "output_type": "execute_result"
    }
   ],
   "source": [
    "cars[\"year\"].unique()"
   ]
  },
  {
   "cell_type": "code",
   "execution_count": 301,
   "metadata": {},
   "outputs": [],
   "source": [
    "cars = cars[cars[\"year\"].apply(lambda x : x.isnumeric())]\n"
   ]
  },
  {
   "cell_type": "code",
   "execution_count": 305,
   "metadata": {},
   "outputs": [
    {
     "data": {
      "text/plain": [
       "array(['2018', '2007', '2012', '2009', '2006', '2011', '2013', '2005',\n",
       "       '2020', '2008', '2017', '2015', '2016', '2010', '2014', '1995',\n",
       "       '1998', '2019', '1999', '2021', '2004', '2022', '2023', '1978',\n",
       "       '1972', '2003', '2001', '2002', '2000', '1991', '1994', '1989',\n",
       "       '1997', '1996', '1993', '1987', '1988', '1986', '1968', '1992',\n",
       "       '1980', '1981', '1975', '1970', '1973', '1935', '1984'],\n",
       "      dtype=object)"
      ]
     },
     "execution_count": 305,
     "metadata": {},
     "output_type": "execute_result"
    }
   ],
   "source": [
    "cars.year.unique()\n"
   ]
  },
  {
   "cell_type": "markdown",
   "metadata": {},
   "source": [
    "Taking a closer look at the year values, the 1935 value was particularly intresting. After further inspection, it was confirmed to accurate.\n",
    "https://en.wikipedia.org/wiki/Morris_Minor_(1928)"
   ]
  },
  {
   "cell_type": "code",
   "execution_count": 311,
   "metadata": {},
   "outputs": [],
   "source": [
    "cars[\"year\"] = cars[\"year\"].astype(int)"
   ]
  },
  {
   "cell_type": "code",
   "execution_count": 312,
   "metadata": {},
   "outputs": [
    {
     "data": {
      "text/html": [
       "<div>\n",
       "<style scoped>\n",
       "    .dataframe tbody tr th:only-of-type {\n",
       "        vertical-align: middle;\n",
       "    }\n",
       "\n",
       "    .dataframe tbody tr th {\n",
       "        vertical-align: top;\n",
       "    }\n",
       "\n",
       "    .dataframe thead th {\n",
       "        text-align: right;\n",
       "    }\n",
       "</style>\n",
       "<table border=\"1\" class=\"dataframe\">\n",
       "  <thead>\n",
       "    <tr style=\"text-align: right;\">\n",
       "      <th></th>\n",
       "      <th>name</th>\n",
       "      <th>year</th>\n",
       "      <th>owners</th>\n",
       "      <th>mileage</th>\n",
       "      <th>litres</th>\n",
       "      <th>BHP</th>\n",
       "      <th>transmission</th>\n",
       "      <th>fuel</th>\n",
       "      <th>price</th>\n",
       "      <th>write_off_category</th>\n",
       "      <th>vehicle_type</th>\n",
       "      <th>seller_name</th>\n",
       "      <th>location</th>\n",
       "      <th>plate</th>\n",
       "    </tr>\n",
       "  </thead>\n",
       "  <tbody>\n",
       "    <tr>\n",
       "      <th>20554</th>\n",
       "      <td>Morris Minor</td>\n",
       "      <td>1935</td>\n",
       "      <td>NaN</td>\n",
       "      <td>55,861 miles</td>\n",
       "      <td>0.9L</td>\n",
       "      <td>Manual</td>\n",
       "      <td>Petrol</td>\n",
       "      <td>6 owners</td>\n",
       "      <td>8750</td>\n",
       "      <td>NaN</td>\n",
       "      <td>Saloon</td>\n",
       "      <td>NaN</td>\n",
       "      <td>NaN</td>\n",
       "      <td></td>\n",
       "    </tr>\n",
       "  </tbody>\n",
       "</table>\n",
       "</div>"
      ],
      "text/plain": [
       "               name  year owners       mileage litres     BHP transmission  \\\n",
       "20554  Morris Minor  1935    NaN  55,861 miles   0.9L  Manual       Petrol   \n",
       "\n",
       "           fuel price write_off_category vehicle_type seller_name location  \\\n",
       "20554  6 owners  8750                NaN       Saloon         NaN      NaN   \n",
       "\n",
       "      plate  \n",
       "20554        "
      ]
     },
     "execution_count": 312,
     "metadata": {},
     "output_type": "execute_result"
    }
   ],
   "source": [
    "cars[cars[\"year\"]==1935]"
   ]
  },
  {
   "cell_type": "code",
   "execution_count": 313,
   "metadata": {},
   "outputs": [
    {
     "name": "stdout",
     "output_type": "stream",
     "text": [
      "<class 'pandas.core.frame.DataFrame'>\n",
      "Index: 10408 entries, 0 to 29366\n",
      "Data columns (total 14 columns):\n",
      " #   Column              Non-Null Count  Dtype \n",
      "---  ------              --------------  ----- \n",
      " 0   name                10408 non-null  object\n",
      " 1   year                10408 non-null  int32 \n",
      " 2   owners              6699 non-null   object\n",
      " 3   mileage             10400 non-null  object\n",
      " 4   litres              10399 non-null  object\n",
      " 5   BHP                 10396 non-null  object\n",
      " 6   transmission        10379 non-null  object\n",
      " 7   fuel                10314 non-null  object\n",
      " 8   price               10408 non-null  object\n",
      " 9   write_off_category  383 non-null    object\n",
      " 10  vehicle_type        10408 non-null  object\n",
      " 11  seller_name         9678 non-null   object\n",
      " 12  location            9069 non-null   object\n",
      " 13  plate               10408 non-null  object\n",
      "dtypes: int32(1), object(13)\n",
      "memory usage: 1.2+ MB\n"
     ]
    }
   ],
   "source": [
    "cars.info()"
   ]
  },
  {
   "cell_type": "markdown",
   "metadata": {},
   "source": [
    "Mileage Column"
   ]
  },
  {
   "cell_type": "code",
   "execution_count": 314,
   "metadata": {},
   "outputs": [],
   "source": [
    "#Removes all non-numeric characters from the mileage column.\n",
    "cars.mileage\n",
    "cars[\"mileage\"] = cars[\"mileage\"].apply(lambda x: re.sub(\"[^0-9]\", \"\", str(x)))\n"
   ]
  },
  {
   "cell_type": "code",
   "execution_count": 315,
   "metadata": {},
   "outputs": [
    {
     "data": {
      "text/plain": [
       "0"
      ]
     },
     "execution_count": 315,
     "metadata": {},
     "output_type": "execute_result"
    }
   ],
   "source": [
    "cars[\"mileage\"].isnull().sum()"
   ]
  },
  {
   "cell_type": "code",
   "execution_count": 316,
   "metadata": {},
   "outputs": [
    {
     "data": {
      "text/html": [
       "<div>\n",
       "<style scoped>\n",
       "    .dataframe tbody tr th:only-of-type {\n",
       "        vertical-align: middle;\n",
       "    }\n",
       "\n",
       "    .dataframe tbody tr th {\n",
       "        vertical-align: top;\n",
       "    }\n",
       "\n",
       "    .dataframe thead th {\n",
       "        text-align: right;\n",
       "    }\n",
       "</style>\n",
       "<table border=\"1\" class=\"dataframe\">\n",
       "  <thead>\n",
       "    <tr style=\"text-align: right;\">\n",
       "      <th></th>\n",
       "      <th>name</th>\n",
       "      <th>year</th>\n",
       "      <th>owners</th>\n",
       "      <th>mileage</th>\n",
       "      <th>litres</th>\n",
       "      <th>BHP</th>\n",
       "      <th>transmission</th>\n",
       "      <th>fuel</th>\n",
       "      <th>price</th>\n",
       "      <th>write_off_category</th>\n",
       "      <th>vehicle_type</th>\n",
       "      <th>seller_name</th>\n",
       "      <th>location</th>\n",
       "      <th>plate</th>\n",
       "    </tr>\n",
       "  </thead>\n",
       "  <tbody>\n",
       "    <tr>\n",
       "      <th>49</th>\n",
       "      <td>Toyota Aristo</td>\n",
       "      <td>1998</td>\n",
       "      <td>NaN</td>\n",
       "      <td></td>\n",
       "      <td>NaN</td>\n",
       "      <td>NaN</td>\n",
       "      <td>NaN</td>\n",
       "      <td>NaN</td>\n",
       "      <td>11995</td>\n",
       "      <td>NaN</td>\n",
       "      <td>80,294 miles</td>\n",
       "      <td>Auto Choice - See all 59 cars</td>\n",
       "      <td>Dealer locationNewtownards</td>\n",
       "      <td></td>\n",
       "    </tr>\n",
       "    <tr>\n",
       "      <th>9711</th>\n",
       "      <td>BMW Alpina B10</td>\n",
       "      <td>2003</td>\n",
       "      <td>NaN</td>\n",
       "      <td></td>\n",
       "      <td>NaN</td>\n",
       "      <td>NaN</td>\n",
       "      <td>NaN</td>\n",
       "      <td>NaN</td>\n",
       "      <td>5995</td>\n",
       "      <td>NaN</td>\n",
       "      <td>123,000 miles</td>\n",
       "      <td>Unique Motors - See all 22 cars</td>\n",
       "      <td>Dealer locationCastleford</td>\n",
       "      <td>52</td>\n",
       "    </tr>\n",
       "    <tr>\n",
       "      <th>10436</th>\n",
       "      <td>Nissan Elgrand</td>\n",
       "      <td>2017</td>\n",
       "      <td>NaN</td>\n",
       "      <td></td>\n",
       "      <td>NaN</td>\n",
       "      <td>NaN</td>\n",
       "      <td>NaN</td>\n",
       "      <td>NaN</td>\n",
       "      <td>6000</td>\n",
       "      <td>NaN</td>\n",
       "      <td>100,000 miles</td>\n",
       "      <td>HSI Automotive - See all 21 cars</td>\n",
       "      <td>Dealer locationBradford</td>\n",
       "      <td>67</td>\n",
       "    </tr>\n",
       "    <tr>\n",
       "      <th>13912</th>\n",
       "      <td>Peugeot 208</td>\n",
       "      <td>2020</td>\n",
       "      <td>NaN</td>\n",
       "      <td></td>\n",
       "      <td>NaN</td>\n",
       "      <td>NaN</td>\n",
       "      <td>NaN</td>\n",
       "      <td>NaN</td>\n",
       "      <td>10100</td>\n",
       "      <td>NaN</td>\n",
       "      <td>Hatchback</td>\n",
       "      <td>Hilton Car Supermarket Milton Keynes - See all...</td>\n",
       "      <td>Dealer locationMilton Keynes</td>\n",
       "      <td>20</td>\n",
       "    </tr>\n",
       "    <tr>\n",
       "      <th>14412</th>\n",
       "      <td>Ford Dorchester</td>\n",
       "      <td>2002</td>\n",
       "      <td>NaN</td>\n",
       "      <td></td>\n",
       "      <td>NaN</td>\n",
       "      <td>NaN</td>\n",
       "      <td>NaN</td>\n",
       "      <td>NaN</td>\n",
       "      <td>2999</td>\n",
       "      <td>NaN</td>\n",
       "      <td>80,600 miles</td>\n",
       "      <td>Ideal Carz - See all 51 cars</td>\n",
       "      <td>Dealer locationMilton Keynes</td>\n",
       "      <td>52</td>\n",
       "    </tr>\n",
       "    <tr>\n",
       "      <th>14637</th>\n",
       "      <td>Toyota Estima</td>\n",
       "      <td>2021</td>\n",
       "      <td>NaN</td>\n",
       "      <td></td>\n",
       "      <td>NaN</td>\n",
       "      <td>NaN</td>\n",
       "      <td>NaN</td>\n",
       "      <td>NaN</td>\n",
       "      <td>7490</td>\n",
       "      <td>NaN</td>\n",
       "      <td>88,000 miles</td>\n",
       "      <td>Auto Globe Limited - See all 113 cars</td>\n",
       "      <td>Dealer locationMilton Keynes</td>\n",
       "      <td>21</td>\n",
       "    </tr>\n",
       "    <tr>\n",
       "      <th>19580</th>\n",
       "      <td>Hyundai Coupe</td>\n",
       "      <td>2007</td>\n",
       "      <td>NaN</td>\n",
       "      <td></td>\n",
       "      <td>NaN</td>\n",
       "      <td>NaN</td>\n",
       "      <td>NaN</td>\n",
       "      <td>NaN</td>\n",
       "      <td>1895</td>\n",
       "      <td>NaN</td>\n",
       "      <td>Coupe</td>\n",
       "      <td>Eden Approved Bicester - See all 48 cars</td>\n",
       "      <td>Dealer locationBicester</td>\n",
       "      <td>07</td>\n",
       "    </tr>\n",
       "    <tr>\n",
       "      <th>19941</th>\n",
       "      <td>Toyota Estima</td>\n",
       "      <td>2021</td>\n",
       "      <td>NaN</td>\n",
       "      <td></td>\n",
       "      <td>NaN</td>\n",
       "      <td>NaN</td>\n",
       "      <td>NaN</td>\n",
       "      <td>NaN</td>\n",
       "      <td>7490</td>\n",
       "      <td>NaN</td>\n",
       "      <td>88,000 miles</td>\n",
       "      <td>Auto Globe Limited - See all 114 cars</td>\n",
       "      <td>NaN</td>\n",
       "      <td>21</td>\n",
       "    </tr>\n",
       "    <tr>\n",
       "      <th>22058</th>\n",
       "      <td>Toyota Estima</td>\n",
       "      <td>2021</td>\n",
       "      <td>NaN</td>\n",
       "      <td></td>\n",
       "      <td>NaN</td>\n",
       "      <td>NaN</td>\n",
       "      <td>NaN</td>\n",
       "      <td>NaN</td>\n",
       "      <td>7490</td>\n",
       "      <td>NaN</td>\n",
       "      <td>88,000 miles</td>\n",
       "      <td>Auto Globe Limited - See all 118 cars</td>\n",
       "      <td>Dealer locationMilton Keynes</td>\n",
       "      <td>21</td>\n",
       "    </tr>\n",
       "  </tbody>\n",
       "</table>\n",
       "</div>"
      ],
      "text/plain": [
       "                  name  year owners mileage litres  BHP transmission fuel  \\\n",
       "49       Toyota Aristo  1998    NaN            NaN  NaN          NaN  NaN   \n",
       "9711    BMW Alpina B10  2003    NaN            NaN  NaN          NaN  NaN   \n",
       "10436   Nissan Elgrand  2017    NaN            NaN  NaN          NaN  NaN   \n",
       "13912      Peugeot 208  2020    NaN            NaN  NaN          NaN  NaN   \n",
       "14412  Ford Dorchester  2002    NaN            NaN  NaN          NaN  NaN   \n",
       "14637    Toyota Estima  2021    NaN            NaN  NaN          NaN  NaN   \n",
       "19580    Hyundai Coupe  2007    NaN            NaN  NaN          NaN  NaN   \n",
       "19941    Toyota Estima  2021    NaN            NaN  NaN          NaN  NaN   \n",
       "22058    Toyota Estima  2021    NaN            NaN  NaN          NaN  NaN   \n",
       "\n",
       "       price write_off_category   vehicle_type  \\\n",
       "49     11995                NaN   80,294 miles   \n",
       "9711    5995                NaN  123,000 miles   \n",
       "10436   6000                NaN  100,000 miles   \n",
       "13912  10100                NaN      Hatchback   \n",
       "14412   2999                NaN   80,600 miles   \n",
       "14637   7490                NaN   88,000 miles   \n",
       "19580   1895                NaN          Coupe   \n",
       "19941   7490                NaN   88,000 miles   \n",
       "22058   7490                NaN   88,000 miles   \n",
       "\n",
       "                                             seller_name  \\\n",
       "49                         Auto Choice - See all 59 cars   \n",
       "9711                     Unique Motors - See all 22 cars   \n",
       "10436                   HSI Automotive - See all 21 cars   \n",
       "13912  Hilton Car Supermarket Milton Keynes - See all...   \n",
       "14412                       Ideal Carz - See all 51 cars   \n",
       "14637              Auto Globe Limited - See all 113 cars   \n",
       "19580           Eden Approved Bicester - See all 48 cars   \n",
       "19941              Auto Globe Limited - See all 114 cars   \n",
       "22058              Auto Globe Limited - See all 118 cars   \n",
       "\n",
       "                           location plate  \n",
       "49       Dealer locationNewtownards        \n",
       "9711      Dealer locationCastleford    52  \n",
       "10436       Dealer locationBradford    67  \n",
       "13912  Dealer locationMilton Keynes    20  \n",
       "14412  Dealer locationMilton Keynes    52  \n",
       "14637  Dealer locationMilton Keynes    21  \n",
       "19580       Dealer locationBicester    07  \n",
       "19941                           NaN    21  \n",
       "22058  Dealer locationMilton Keynes    21  "
      ]
     },
     "execution_count": 316,
     "metadata": {},
     "output_type": "execute_result"
    }
   ],
   "source": [
    "cars[~cars.mileage.str.isnumeric()]"
   ]
  },
  {
   "cell_type": "code",
   "execution_count": 317,
   "metadata": {},
   "outputs": [],
   "source": [
    "cars.loc[cars.mileage==\"\", \"mileage\"] = np.nan"
   ]
  },
  {
   "cell_type": "code",
   "execution_count": 318,
   "metadata": {},
   "outputs": [],
   "source": [
    "cars = cars[cars[\"mileage\"].notnull()]"
   ]
  },
  {
   "cell_type": "code",
   "execution_count": 319,
   "metadata": {},
   "outputs": [],
   "source": [
    "cars[\"mileage\"] = cars[\"mileage\"].astype(float)"
   ]
  },
  {
   "cell_type": "code",
   "execution_count": 320,
   "metadata": {},
   "outputs": [
    {
     "data": {
      "text/plain": [
       "0"
      ]
     },
     "execution_count": 320,
     "metadata": {},
     "output_type": "execute_result"
    }
   ],
   "source": [
    "cars[\"mileage\"].isnull().sum()"
   ]
  },
  {
   "cell_type": "markdown",
   "metadata": {},
   "source": [
    "Litres column"
   ]
  },
  {
   "cell_type": "code",
   "execution_count": 324,
   "metadata": {},
   "outputs": [
    {
     "data": {
      "text/plain": [
       "array(['1.6L', '1.9L', '2.0L', '1.5L', '1.2L', '5.0L', '1.4L', '1.33L',\n",
       "       '1.8L', '1.0L', '3.0L', '2.1L', '1.1L', '0.9L', '2.4L', '1.7L',\n",
       "       '1.3L', '2.2L', '3.5L', '1.25L', '2.5L', '4.4L', '5.5L', '3.2L',\n",
       "       '2.3L', '4.2L', '2.7L', '0.66L', '2.8L', '2.9L', '3.3L', '0.7L',\n",
       "       '0.6L', '4.0L', '6.0L', '4.6L', '7.7L', '3.7L', '4.3L', '2.6L',\n",
       "       '6.2L', '0.1L', '3.6L', '3.4L'], dtype=object)"
      ]
     },
     "execution_count": 324,
     "metadata": {},
     "output_type": "execute_result"
    }
   ],
   "source": [
    "# cars[cars.litres.isnull()].size\n",
    "# print(cars.litres.unique())\n",
    "cars[cars.litres.str.contains(\"L\", na=False)].size\n",
    "\n",
    "cars = cars[cars.litres.str.contains(\"L\", na=False)]\n",
    "# cars.shape\n",
    "cars.litres.unique()"
   ]
  },
  {
   "cell_type": "markdown",
   "metadata": {},
   "source": [
    "Horsepower column"
   ]
  },
  {
   "cell_type": "code",
   "execution_count": 325,
   "metadata": {},
   "outputs": [],
   "source": [
    "# cars[cars[\"BHP\"].isnull()]\n",
    "#BHP null values can safely be removed\n",
    "cars[cars[\"BHP\"].isnull()].head()\n",
    "cars = cars[cars[\"BHP\"].notnull()]"
   ]
  },
  {
   "cell_type": "code",
   "execution_count": 326,
   "metadata": {},
   "outputs": [
    {
     "data": {
      "text/plain": [
       "array(['176PS', '118BHP', '156BHP', '168BHP', '101BHP', '113BHP',\n",
       "       '130BHP', '85PS', '110BHP', 'Automatic', '190PS', '67BHP', '143PS',\n",
       "       '188BHP', '100BHP', '136PS', '110PS', '115PS', '100PS', '116PS',\n",
       "       '170BHP', '140PS', '123BHP', '75PS', '79BHP', 'Manual', '60PS',\n",
       "       '197PS', '68BHP', '88BHP', '156PS', '150PS', '98PS', '114BHP',\n",
       "       '70PS', '122PS', '142PS', '120PS', '326PS', '174BHP', '90BHP',\n",
       "       '148BHP', '163PS', '132PS', '184PS', '245BHP', '137PS', '68PS',\n",
       "       '138BHP', '105PS', '125PS', '114PS', '130PS', '125BHP', '83PS',\n",
       "       '89BHP', '86PS', '91BHP', '313PS', '181BHP', '66PS', '90PS',\n",
       "       '147PS', '187BHP', '121PS', '150BHP', '111PS', '143BHP', '134BHP',\n",
       "       '77BHP', '87PS', '120BHP', '145PS', '69BHP', '128BHP', '200PS',\n",
       "       '109PS', '131PS', '84BHP', '170PS', '276BHP', '72BHP', '160PS',\n",
       "       '117PS', '147BHP', '69PS', '83BHP', '80BHP', '106PS', '139BHP',\n",
       "       '136BHP', '60BHP', '197BHP', '59BHP', '180PS', '278BHP', '84PS',\n",
       "       '98BHP', '104BHP', '82PS', '201PS', '71PS', '152PS', '133BHP',\n",
       "       '141PS', '127BHP', '72PS', '272PS', '106BHP', '101PS', '75BHP',\n",
       "       '108BHP', '308BHP', '298BHP', '122BHP', '175BHP', '96PS', '141BHP',\n",
       "       '107BHP', '140BHP', '82BHP', '95PS', '223PS', '177BHP', '338PS',\n",
       "       '254BHP', '124BHP', '177PS', '94PS', '158PS', '184BHP', '252BHP',\n",
       "       '245PS', '103BHP', '225PS', '275PS', '218PS', '94BHP', '133PS',\n",
       "       '205PS', '189BHP', '134PS', '500BHP', '87BHP', 'Diesel', '93BHP',\n",
       "       '129BHP', '167BHP', '151PS', '250PS', '163BHP', '194PS', '112BHP',\n",
       "       '121BHP', '192PS', '226BHP', '165PS', '126PS', '115BHP', '65BHP',\n",
       "       '344BHP', '192BHP', '96BHP', '102PS', '204PS', '296BHP', '80PS',\n",
       "       '92PS', '240PS', '161BHP', '313BHP', '228BHP', '74BHP', '119BHP',\n",
       "       '190BHP', '109BHP', '360PS', '105BHP', '232BHP', '92BHP', '258PS',\n",
       "       '182BHP', '380PS', '349BHP', '179BHP', '306PS', '354PS', '124PS',\n",
       "       '238BHP', '211PS', '99PS', '198BHP', '86BHP', '81BHP', '310PS',\n",
       "       '204BHP', '73BHP', '255BHP', '112PS', '222PS', '155PS', '221BHP',\n",
       "       '242BHP', '186PS', '425BHP', '300PS', '420PS', '66BHP', '280BHP',\n",
       "       '64BHP', '207PS', '126BHP', '111BHP', '215BHP', '99BHP', '70BHP',\n",
       "       '145BHP', '211BHP', '91PS', '175PS', '55BHP', '154BHP', '65PS',\n",
       "       '230BHP', '78PS', '142BHP', '131BHP', '146BHP', '152BHP', '231BHP',\n",
       "       '61BHP', '85BHP', '88PS', '76PS', '165BHP', '210BHP', '173BHP',\n",
       "       '260BHP', '162BHP', '153BHP', '103PS', '128PS', '224BHP', '132BHP',\n",
       "       '67PS', '172BHP', '231PS', '113PS', '180BHP', '224PS', '172PS',\n",
       "       '171PS', '135BHP', '260PS', '118PS', '95BHP', '144BHP', '200BHP',\n",
       "       '247BHP', '79PS', '97BHP', '54BHP', '158BHP', '137BHP', '61PS',\n",
       "       '76BHP', '57BHP', '127PS', '178PS', '205BHP', '55PS', '235PS',\n",
       "       '210PS', '206BHP', '183BHP', '53BHP', '62BHP', '185PS', '286PS',\n",
       "       '157PS', '208BHP', '160BHP', '50BHP', '202BHP', 'Petrol', '235BHP',\n",
       "       '280PS', '275BHP', '201BHP', '195PS', '220PS', '272BHP', '302BHP',\n",
       "       '185BHP', '218BHP', '345BHP', '240BHP', '181PS', '135PS', '292PS',\n",
       "       '552BHP', '320PS', '129PS', '71BHP', '339PS', '241BHP', '302PS',\n",
       "       '174PS', '354BHP', '162PS', '176BHP', '178BHP', '306BHP', '187PS',\n",
       "       '381BHP', '214BHP', '265BHP', '212BHP', '390PS', '340BHP',\n",
       "       '207BHP', '73PS', '315BHP', '265PS', '326BHP', '261BHP', '220BHP',\n",
       "       '194BHP', '234BHP', '193BHP', '229BHP', '196BHP', '78BHP', '74PS',\n",
       "       '234PS', '63BHP', '107PS', '301BHP', '108PS', '225BHP', '258BHP',\n",
       "       '209BHP', '81PS', '159BHP', '237BHP', '227BHP', '169BHP', '138PS',\n",
       "       '164BHP', '167PS', '203BHP', '281BHP', '300BHP', '117BHP', '149PS',\n",
       "       '191BHP', '400BHP', '102BHP', '290BHP', '154PS', '215PS', '450BHP',\n",
       "       '222BHP', '304PS', '169PS', '52BHP', '270BHP', '510PS', '271BHP',\n",
       "       '335BHP', '259PS', '387PS', '243BHP', '295BHP', '270PS', '370PS',\n",
       "       '340PS', '40BHP', '182PS', '445PS', '171BHP', '250BHP', '116BHP',\n",
       "       '282BHP', '217BHP'], dtype=object)"
      ]
     },
     "execution_count": 326,
     "metadata": {},
     "output_type": "execute_result"
    }
   ],
   "source": [
    "#Non-numeric characters from the BHP column need to be removed\n",
    "cars[\"BHP\"].unique()"
   ]
  },
  {
   "cell_type": "markdown",
   "metadata": {},
   "source": [
    "PS (Pferdestärke, meaning horse strength in German) and  (Brake Horsepower) are often used interchangeably. \n",
    "\n",
    "One PS is roughly 98.6% of a BHP\n"
   ]
  },
  {
   "cell_type": "code",
   "execution_count": 327,
   "metadata": {},
   "outputs": [],
   "source": [
    "\n",
    "cars[\"BHP\"].str[-2:].unique()\n",
    "PS = cars[\"BHP\"].str.contains(\"PS\")\n",
    "cars.loc[PS,'BHP'] = cars.loc[PS,'BHP'].str[:-2].astype(int) * 0.98632\n",
    "    "
   ]
  },
  {
   "cell_type": "code",
   "execution_count": 328,
   "metadata": {},
   "outputs": [
    {
     "data": {
      "text/plain": [
       "array([nan, 'HP', 'ic', 'al', 'el', 'ol'], dtype=object)"
      ]
     },
     "execution_count": 328,
     "metadata": {},
     "output_type": "execute_result"
    }
   ],
   "source": [
    "cars[\"BHP\"].str[-2:].unique()"
   ]
  },
  {
   "cell_type": "code",
   "execution_count": 329,
   "metadata": {},
   "outputs": [],
   "source": [
    "HP = cars[\"BHP\"].str.contains(\"BHP\", na=False)\n",
    "cars.loc[HP, 'BHP'] = cars.loc[HP, 'BHP'].str.replace(\"BHP\", \"\").astype(int)"
   ]
  },
  {
   "cell_type": "code",
   "execution_count": 330,
   "metadata": {},
   "outputs": [],
   "source": [
    "\n",
    "cars[cars[\"BHP\"].str.isnumeric() == False]\n",
    "cars[\"BHP\"] = cars[\"BHP\"].apply(lambda x: re.sub(\"[^0-9.]\", \"\", str(x)))"
   ]
  },
  {
   "cell_type": "code",
   "execution_count": 332,
   "metadata": {},
   "outputs": [
    {
     "data": {
      "text/plain": [
       "0        174.0\n",
       "1        118.0\n",
       "2        156.0\n",
       "3        168.0\n",
       "4        101.0\n",
       "         ...  \n",
       "29361    123.0\n",
       "29362    177.0\n",
       "29364     68.0\n",
       "29365    268.0\n",
       "29366    204.0\n",
       "Name: BHP, Length: 10304, dtype: float64"
      ]
     },
     "execution_count": 332,
     "metadata": {},
     "output_type": "execute_result"
    }
   ],
   "source": [
    "cars.loc[cars.BHP==\"\", \"BHP\"] = np.nan\n",
    "cars[\"BHP\"] = cars[\"BHP\"].astype(float).round()\n",
    "cars[\"BHP\"]"
   ]
  },
  {
   "cell_type": "code",
   "execution_count": 334,
   "metadata": {},
   "outputs": [
    {
     "name": "stdout",
     "output_type": "stream",
     "text": [
      "<class 'pandas.core.frame.DataFrame'>\n",
      "Index: 10304 entries, 0 to 29366\n",
      "Data columns (total 14 columns):\n",
      " #   Column              Non-Null Count  Dtype  \n",
      "---  ------              --------------  -----  \n",
      " 0   name                10304 non-null  object \n",
      " 1   year                10304 non-null  int32  \n",
      " 2   owners              6695 non-null   object \n",
      " 3   mileage             10304 non-null  float64\n",
      " 4   litres              10304 non-null  object \n",
      " 5   BHP                 10228 non-null  float64\n",
      " 6   transmission        10303 non-null  object \n",
      " 7   fuel                10276 non-null  object \n",
      " 8   price               10304 non-null  object \n",
      " 9   write_off_category  381 non-null    object \n",
      " 10  vehicle_type        10304 non-null  object \n",
      " 11  seller_name         9591 non-null   object \n",
      " 12  location            8989 non-null   object \n",
      " 13  plate               10304 non-null  object \n",
      "dtypes: float64(2), int32(1), object(11)\n",
      "memory usage: 1.1+ MB\n"
     ]
    }
   ],
   "source": [
    "cars.info()"
   ]
  },
  {
   "cell_type": "code",
   "execution_count": null,
   "metadata": {},
   "outputs": [
    {
     "data": {
      "text/html": [
       "<div>\n",
       "<style scoped>\n",
       "    .dataframe tbody tr th:only-of-type {\n",
       "        vertical-align: middle;\n",
       "    }\n",
       "\n",
       "    .dataframe tbody tr th {\n",
       "        vertical-align: top;\n",
       "    }\n",
       "\n",
       "    .dataframe thead th {\n",
       "        text-align: right;\n",
       "    }\n",
       "</style>\n",
       "<table border=\"1\" class=\"dataframe\">\n",
       "  <thead>\n",
       "    <tr style=\"text-align: right;\">\n",
       "      <th></th>\n",
       "      <th>name</th>\n",
       "      <th>year</th>\n",
       "      <th>owners</th>\n",
       "      <th>mileage</th>\n",
       "      <th>litres</th>\n",
       "      <th>BHP</th>\n",
       "      <th>transmission</th>\n",
       "      <th>fuel</th>\n",
       "      <th>price</th>\n",
       "      <th>write_off_category</th>\n",
       "      <th>vehicle_type</th>\n",
       "      <th>seller_name</th>\n",
       "      <th>location</th>\n",
       "    </tr>\n",
       "  </thead>\n",
       "  <tbody>\n",
       "    <tr>\n",
       "      <th>0</th>\n",
       "      <td>KIA Sportage</td>\n",
       "      <td>2018</td>\n",
       "      <td>NaN</td>\n",
       "      <td>23600.0</td>\n",
       "      <td>1.6L</td>\n",
       "      <td>174.0</td>\n",
       "      <td>Manual</td>\n",
       "      <td>Petrol</td>\n",
       "      <td>£16,990</td>\n",
       "      <td>NaN</td>\n",
       "      <td>SUV</td>\n",
       "      <td>Belfast Audi - See all 68 cars</td>\n",
       "      <td>Dealer locationBelfast</td>\n",
       "    </tr>\n",
       "    <tr>\n",
       "      <th>2</th>\n",
       "      <td>Citroen DS3</td>\n",
       "      <td>2012</td>\n",
       "      <td>NaN</td>\n",
       "      <td>75995.0</td>\n",
       "      <td>1.6L</td>\n",
       "      <td>156.0</td>\n",
       "      <td>Manual</td>\n",
       "      <td>Petrol</td>\n",
       "      <td>£1,493</td>\n",
       "      <td>NaN</td>\n",
       "      <td>Hatchback</td>\n",
       "      <td>Auto Sales NI - See all cars</td>\n",
       "      <td>Dealer locationNewtownabbey</td>\n",
       "    </tr>\n",
       "    <tr>\n",
       "      <th>9</th>\n",
       "      <td>Mercedes-Benz CLS</td>\n",
       "      <td>2005</td>\n",
       "      <td>NaN</td>\n",
       "      <td>87200.0</td>\n",
       "      <td>5.0L</td>\n",
       "      <td>NaN</td>\n",
       "      <td>Petrol</td>\n",
       "      <td>NaN</td>\n",
       "      <td>£4,995</td>\n",
       "      <td>NaN</td>\n",
       "      <td>Saloon</td>\n",
       "      <td>RLW Cars - See all 4 cars</td>\n",
       "      <td>Dealer locationBangor, County Down</td>\n",
       "    </tr>\n",
       "    <tr>\n",
       "      <th>13</th>\n",
       "      <td>Audi Q5</td>\n",
       "      <td>2020</td>\n",
       "      <td>NaN</td>\n",
       "      <td>21000.0</td>\n",
       "      <td>2.0L</td>\n",
       "      <td>187.0</td>\n",
       "      <td>Automatic</td>\n",
       "      <td>Diesel</td>\n",
       "      <td>£34,990</td>\n",
       "      <td>NaN</td>\n",
       "      <td>SUV</td>\n",
       "      <td>Belfast Audi - See all 68 cars</td>\n",
       "      <td>Dealer locationBelfast</td>\n",
       "    </tr>\n",
       "    <tr>\n",
       "      <th>14</th>\n",
       "      <td>Ford Fiesta</td>\n",
       "      <td>2008</td>\n",
       "      <td>5 owners</td>\n",
       "      <td>100557.0</td>\n",
       "      <td>1.4L</td>\n",
       "      <td>67.0</td>\n",
       "      <td>Manual</td>\n",
       "      <td>Diesel</td>\n",
       "      <td>£2,799</td>\n",
       "      <td>NaN</td>\n",
       "      <td>Hatchback</td>\n",
       "      <td>RLW Cars - See all 3 cars</td>\n",
       "      <td>Dealer locationBangor, County Down</td>\n",
       "    </tr>\n",
       "  </tbody>\n",
       "</table>\n",
       "</div>"
      ],
      "text/plain": [
       "                 name  year    owners   mileage litres    BHP transmission  \\\n",
       "0        KIA Sportage  2018       NaN   23600.0   1.6L  174.0       Manual   \n",
       "2         Citroen DS3  2012       NaN   75995.0   1.6L  156.0       Manual   \n",
       "9   Mercedes-Benz CLS  2005       NaN   87200.0   5.0L    NaN       Petrol   \n",
       "13            Audi Q5  2020       NaN   21000.0   2.0L  187.0    Automatic   \n",
       "14        Ford Fiesta  2008  5 owners  100557.0   1.4L   67.0       Manual   \n",
       "\n",
       "      fuel    price write_off_category vehicle_type  \\\n",
       "0   Petrol  £16,990                NaN          SUV   \n",
       "2   Petrol   £1,493                NaN    Hatchback   \n",
       "9      NaN   £4,995                NaN       Saloon   \n",
       "13  Diesel  £34,990                NaN          SUV   \n",
       "14  Diesel   £2,799                NaN    Hatchback   \n",
       "\n",
       "                       seller_name                            location  \n",
       "0   Belfast Audi - See all 68 cars              Dealer locationBelfast  \n",
       "2     Auto Sales NI - See all cars         Dealer locationNewtownabbey  \n",
       "9        RLW Cars - See all 4 cars  Dealer locationBangor, County Down  \n",
       "13  Belfast Audi - See all 68 cars              Dealer locationBelfast  \n",
       "14       RLW Cars - See all 3 cars  Dealer locationBangor, County Down  "
      ]
     },
     "execution_count": 125,
     "metadata": {},
     "output_type": "execute_result"
    }
   ],
   "source": [
    "cars.head() "
   ]
  },
  {
   "cell_type": "markdown",
   "metadata": {},
   "source": [
    "Vehicle Type Column"
   ]
  },
  {
   "cell_type": "code",
   "execution_count": null,
   "metadata": {},
   "outputs": [
    {
     "data": {
      "text/plain": [
       "array(['SUV', 'Hatchback', 'Saloon', 'Coupe', 'Convertible', 'MPV',\n",
       "       'Estate', 'Minibus', 'Pickup', 'Combi Van'], dtype=object)"
      ]
     },
     "execution_count": 127,
     "metadata": {},
     "output_type": "execute_result"
    }
   ],
   "source": [
    "cars.vehicle_type.unique()"
   ]
  },
  {
   "cell_type": "code",
   "execution_count": 335,
   "metadata": {},
   "outputs": [
    {
     "data": {
      "text/html": [
       "<div>\n",
       "<style scoped>\n",
       "    .dataframe tbody tr th:only-of-type {\n",
       "        vertical-align: middle;\n",
       "    }\n",
       "\n",
       "    .dataframe tbody tr th {\n",
       "        vertical-align: top;\n",
       "    }\n",
       "\n",
       "    .dataframe thead th {\n",
       "        text-align: right;\n",
       "    }\n",
       "</style>\n",
       "<table border=\"1\" class=\"dataframe\">\n",
       "  <thead>\n",
       "    <tr style=\"text-align: right;\">\n",
       "      <th></th>\n",
       "      <th>name</th>\n",
       "      <th>year</th>\n",
       "      <th>owners</th>\n",
       "      <th>mileage</th>\n",
       "      <th>litres</th>\n",
       "      <th>BHP</th>\n",
       "      <th>transmission</th>\n",
       "      <th>fuel</th>\n",
       "      <th>price</th>\n",
       "      <th>write_off_category</th>\n",
       "      <th>vehicle_type</th>\n",
       "      <th>seller_name</th>\n",
       "      <th>location</th>\n",
       "      <th>plate</th>\n",
       "    </tr>\n",
       "  </thead>\n",
       "  <tbody>\n",
       "    <tr>\n",
       "      <th>0</th>\n",
       "      <td>KIA Sportage</td>\n",
       "      <td>2018</td>\n",
       "      <td>NaN</td>\n",
       "      <td>23600.0</td>\n",
       "      <td>1.6L</td>\n",
       "      <td>174.0</td>\n",
       "      <td>Manual</td>\n",
       "      <td>Petrol</td>\n",
       "      <td>16990</td>\n",
       "      <td>GC</td>\n",
       "      <td>SUV</td>\n",
       "      <td>Belfast Audi - See all 68 cars</td>\n",
       "      <td>Dealer locationBelfast</td>\n",
       "      <td></td>\n",
       "    </tr>\n",
       "    <tr>\n",
       "      <th>1</th>\n",
       "      <td>Vauxhall Astra</td>\n",
       "      <td>2007</td>\n",
       "      <td>Part service history</td>\n",
       "      <td>119000.0</td>\n",
       "      <td>1.9L</td>\n",
       "      <td>118.0</td>\n",
       "      <td>Automatic</td>\n",
       "      <td>Diesel</td>\n",
       "      <td>995</td>\n",
       "      <td>GC</td>\n",
       "      <td>Hatchback</td>\n",
       "      <td>Burch Autos - See all 30 cars</td>\n",
       "      <td>Dealer locationNewtownards</td>\n",
       "      <td>57</td>\n",
       "    </tr>\n",
       "    <tr>\n",
       "      <th>2</th>\n",
       "      <td>Citroen DS3</td>\n",
       "      <td>2012</td>\n",
       "      <td>NaN</td>\n",
       "      <td>75995.0</td>\n",
       "      <td>1.6L</td>\n",
       "      <td>156.0</td>\n",
       "      <td>Manual</td>\n",
       "      <td>Petrol</td>\n",
       "      <td>1493</td>\n",
       "      <td>GC</td>\n",
       "      <td>Hatchback</td>\n",
       "      <td>Auto Sales NI - See all cars</td>\n",
       "      <td>Dealer locationNewtownabbey</td>\n",
       "      <td></td>\n",
       "    </tr>\n",
       "    <tr>\n",
       "      <th>3</th>\n",
       "      <td>Audi A3</td>\n",
       "      <td>2007</td>\n",
       "      <td>NaN</td>\n",
       "      <td>98968.0</td>\n",
       "      <td>2.0L</td>\n",
       "      <td>168.0</td>\n",
       "      <td>Manual</td>\n",
       "      <td>Diesel</td>\n",
       "      <td>1999</td>\n",
       "      <td>GC</td>\n",
       "      <td>Hatchback</td>\n",
       "      <td>Clearly Cars - See all 17 cars</td>\n",
       "      <td>Dealer locationBelfast</td>\n",
       "      <td>57</td>\n",
       "    </tr>\n",
       "    <tr>\n",
       "      <th>4</th>\n",
       "      <td>Suzuki Swift</td>\n",
       "      <td>2007</td>\n",
       "      <td>4 owners</td>\n",
       "      <td>67200.0</td>\n",
       "      <td>1.5L</td>\n",
       "      <td>101.0</td>\n",
       "      <td>Manual</td>\n",
       "      <td>Petrol</td>\n",
       "      <td>1295</td>\n",
       "      <td>GC</td>\n",
       "      <td>Hatchback</td>\n",
       "      <td>Charles Hurst Usedirect Budget Choice - See al...</td>\n",
       "      <td>Dealer locationBelfast</td>\n",
       "      <td>07</td>\n",
       "    </tr>\n",
       "    <tr>\n",
       "      <th>...</th>\n",
       "      <td>...</td>\n",
       "      <td>...</td>\n",
       "      <td>...</td>\n",
       "      <td>...</td>\n",
       "      <td>...</td>\n",
       "      <td>...</td>\n",
       "      <td>...</td>\n",
       "      <td>...</td>\n",
       "      <td>...</td>\n",
       "      <td>...</td>\n",
       "      <td>...</td>\n",
       "      <td>...</td>\n",
       "      <td>...</td>\n",
       "      <td>...</td>\n",
       "    </tr>\n",
       "    <tr>\n",
       "      <th>29361</th>\n",
       "      <td>Vauxhall Zafira</td>\n",
       "      <td>2013</td>\n",
       "      <td>3 owners</td>\n",
       "      <td>102500.0</td>\n",
       "      <td>1.7L</td>\n",
       "      <td>123.0</td>\n",
       "      <td>Manual</td>\n",
       "      <td>Diesel</td>\n",
       "      <td>2490</td>\n",
       "      <td>GC</td>\n",
       "      <td>MPV</td>\n",
       "      <td>HCL Prestige Car Supermarket - See all 69 cars</td>\n",
       "      <td>Dealer locationAshford</td>\n",
       "      <td>63</td>\n",
       "    </tr>\n",
       "    <tr>\n",
       "      <th>29362</th>\n",
       "      <td>Mercedes-Benz E Class</td>\n",
       "      <td>2003</td>\n",
       "      <td>NaN</td>\n",
       "      <td>143000.0</td>\n",
       "      <td>2.7L</td>\n",
       "      <td>177.0</td>\n",
       "      <td>Automatic</td>\n",
       "      <td>Diesel</td>\n",
       "      <td>1950</td>\n",
       "      <td>GC</td>\n",
       "      <td>Saloon</td>\n",
       "      <td>Auto 4 U - See all 109 cars</td>\n",
       "      <td>Dealer locationGreenford</td>\n",
       "      <td>03</td>\n",
       "    </tr>\n",
       "    <tr>\n",
       "      <th>29364</th>\n",
       "      <td>Ford KA</td>\n",
       "      <td>2011</td>\n",
       "      <td>NaN</td>\n",
       "      <td>70000.0</td>\n",
       "      <td>1.2L</td>\n",
       "      <td>68.0</td>\n",
       "      <td>Manual</td>\n",
       "      <td>Petrol</td>\n",
       "      <td>3390</td>\n",
       "      <td>GC</td>\n",
       "      <td>Hatchback</td>\n",
       "      <td>GM Motoring World LTD - See all 93 cars</td>\n",
       "      <td>Dealer locationGreat Missenden</td>\n",
       "      <td>11</td>\n",
       "    </tr>\n",
       "    <tr>\n",
       "      <th>29365</th>\n",
       "      <td>Mercedes-Benz C Class</td>\n",
       "      <td>2008</td>\n",
       "      <td>Full service history</td>\n",
       "      <td>112000.0</td>\n",
       "      <td>3.5L</td>\n",
       "      <td>268.0</td>\n",
       "      <td>Automatic</td>\n",
       "      <td>Petrol</td>\n",
       "      <td>4950</td>\n",
       "      <td>GC</td>\n",
       "      <td>Saloon</td>\n",
       "      <td>Autoland - See all 80 cars</td>\n",
       "      <td>Dealer locationGreenford</td>\n",
       "      <td>08</td>\n",
       "    </tr>\n",
       "    <tr>\n",
       "      <th>29366</th>\n",
       "      <td>Jaguar XF</td>\n",
       "      <td>2008</td>\n",
       "      <td>6 owners</td>\n",
       "      <td>75224.0</td>\n",
       "      <td>2.7L</td>\n",
       "      <td>204.0</td>\n",
       "      <td>Automatic</td>\n",
       "      <td>Diesel</td>\n",
       "      <td>3500</td>\n",
       "      <td>GC</td>\n",
       "      <td>Saloon</td>\n",
       "      <td>Cottage Car Sales - See all 34 cars</td>\n",
       "      <td>Dealer locationHayes</td>\n",
       "      <td>58</td>\n",
       "    </tr>\n",
       "  </tbody>\n",
       "</table>\n",
       "<p>10304 rows × 14 columns</p>\n",
       "</div>"
      ],
      "text/plain": [
       "                        name  year                owners   mileage litres  \\\n",
       "0               KIA Sportage  2018                   NaN   23600.0   1.6L   \n",
       "1             Vauxhall Astra  2007  Part service history  119000.0   1.9L   \n",
       "2                Citroen DS3  2012                   NaN   75995.0   1.6L   \n",
       "3                    Audi A3  2007                   NaN   98968.0   2.0L   \n",
       "4               Suzuki Swift  2007              4 owners   67200.0   1.5L   \n",
       "...                      ...   ...                   ...       ...    ...   \n",
       "29361        Vauxhall Zafira  2013              3 owners  102500.0   1.7L   \n",
       "29362  Mercedes-Benz E Class  2003                   NaN  143000.0   2.7L   \n",
       "29364                Ford KA  2011                   NaN   70000.0   1.2L   \n",
       "29365  Mercedes-Benz C Class  2008  Full service history  112000.0   3.5L   \n",
       "29366              Jaguar XF  2008              6 owners   75224.0   2.7L   \n",
       "\n",
       "         BHP transmission    fuel  price write_off_category vehicle_type  \\\n",
       "0      174.0       Manual  Petrol  16990                 GC          SUV   \n",
       "1      118.0    Automatic  Diesel    995                 GC    Hatchback   \n",
       "2      156.0       Manual  Petrol   1493                 GC    Hatchback   \n",
       "3      168.0       Manual  Diesel   1999                 GC    Hatchback   \n",
       "4      101.0       Manual  Petrol   1295                 GC    Hatchback   \n",
       "...      ...          ...     ...    ...                ...          ...   \n",
       "29361  123.0       Manual  Diesel   2490                 GC          MPV   \n",
       "29362  177.0    Automatic  Diesel   1950                 GC       Saloon   \n",
       "29364   68.0       Manual  Petrol   3390                 GC    Hatchback   \n",
       "29365  268.0    Automatic  Petrol   4950                 GC       Saloon   \n",
       "29366  204.0    Automatic  Diesel   3500                 GC       Saloon   \n",
       "\n",
       "                                             seller_name  \\\n",
       "0                         Belfast Audi - See all 68 cars   \n",
       "1                          Burch Autos - See all 30 cars   \n",
       "2                           Auto Sales NI - See all cars   \n",
       "3                         Clearly Cars - See all 17 cars   \n",
       "4      Charles Hurst Usedirect Budget Choice - See al...   \n",
       "...                                                  ...   \n",
       "29361     HCL Prestige Car Supermarket - See all 69 cars   \n",
       "29362                        Auto 4 U - See all 109 cars   \n",
       "29364            GM Motoring World LTD - See all 93 cars   \n",
       "29365                         Autoland - See all 80 cars   \n",
       "29366                Cottage Car Sales - See all 34 cars   \n",
       "\n",
       "                             location plate  \n",
       "0              Dealer locationBelfast        \n",
       "1          Dealer locationNewtownards    57  \n",
       "2         Dealer locationNewtownabbey        \n",
       "3              Dealer locationBelfast    57  \n",
       "4              Dealer locationBelfast    07  \n",
       "...                               ...   ...  \n",
       "29361          Dealer locationAshford    63  \n",
       "29362        Dealer locationGreenford    03  \n",
       "29364  Dealer locationGreat Missenden    11  \n",
       "29365        Dealer locationGreenford    08  \n",
       "29366            Dealer locationHayes    58  \n",
       "\n",
       "[10304 rows x 14 columns]"
      ]
     },
     "execution_count": 335,
     "metadata": {},
     "output_type": "execute_result"
    }
   ],
   "source": [
    "# cars[cars[\"write_off_category\"].isna()]\n",
    "#Vehicles with no write off category were automatically given null values\n",
    "#GC stands for good condition\n",
    "cars[\"write_off_category\"] = cars[\"write_off_category\"].fillna(\"GC\")\n",
    "cars[\"write_off_category\"].unique()\n",
    "cars"
   ]
  },
  {
   "cell_type": "markdown",
   "metadata": {},
   "source": [
    "Fuel Column"
   ]
  },
  {
   "cell_type": "code",
   "execution_count": 336,
   "metadata": {},
   "outputs": [
    {
     "data": {
      "text/plain": [
       "fuel\n",
       "Petrol                   6245\n",
       "Diesel                   3871\n",
       "Petrol Hybrid              84\n",
       "Petrol Plug-in Hybrid      19\n",
       "1 owner                    15\n",
       "2 owners                    8\n",
       "4 owners                    7\n",
       "3 owners                    6\n",
       "Diesel Hybrid               6\n",
       "6 owners                    4\n",
       "Full service history        4\n",
       "Bi Fuel                     3\n",
       "Part service history        2\n",
       "9 owners                    1\n",
       "11 owners                   1\n",
       "Name: count, dtype: int64"
      ]
     },
     "execution_count": 336,
     "metadata": {},
     "output_type": "execute_result"
    }
   ],
   "source": [
    "cars[\"fuel\"].value_counts()\n"
   ]
  },
  {
   "cell_type": "code",
   "execution_count": 337,
   "metadata": {},
   "outputs": [],
   "source": [
    "# cars_comp.shape \n",
    "# remove row if doesnt contain \"petrol\", \"disel\" or \"fuel\" in fuel column\n",
    "cars = cars[cars[\"fuel\"].str.contains(\"petrol|diesel|fuel\", case=False, na=False)]"
   ]
  },
  {
   "cell_type": "code",
   "execution_count": 338,
   "metadata": {},
   "outputs": [
    {
     "data": {
      "text/plain": [
       "fuel\n",
       "Petrol                   6245\n",
       "Diesel                   3871\n",
       "Petrol Hybrid              84\n",
       "Petrol Plug-in Hybrid      19\n",
       "Diesel Hybrid               6\n",
       "Bi Fuel                     3\n",
       "Name: count, dtype: int64"
      ]
     },
     "execution_count": 338,
     "metadata": {},
     "output_type": "execute_result"
    }
   ],
   "source": [
    "cars[\"fuel\"].value_counts()\n"
   ]
  },
  {
   "cell_type": "markdown",
   "metadata": {},
   "source": [
    "Transmission Column"
   ]
  },
  {
   "cell_type": "code",
   "execution_count": 339,
   "metadata": {},
   "outputs": [
    {
     "data": {
      "text/plain": [
       "transmission\n",
       "Manual       8547\n",
       "Automatic    1681\n",
       "Name: count, dtype: int64"
      ]
     },
     "execution_count": 339,
     "metadata": {},
     "output_type": "execute_result"
    }
   ],
   "source": [
    "#Column is already clean\n",
    "cars[\"transmission\"].value_counts()"
   ]
  },
  {
   "cell_type": "code",
   "execution_count": null,
   "metadata": {},
   "outputs": [],
   "source": [
    "#Creating a column that denotes the make of a car.\n",
    "cars[\"brand\"] = cars[\"name\"].str.split(\" \", expand=True)[0]\n",
    "cars"
   ]
  },
  {
   "cell_type": "code",
   "execution_count": null,
   "metadata": {},
   "outputs": [],
   "source": [
    "cars[\"location\"] = cars[\"location\"].str.split(\"location\").str[1].str.strip()"
   ]
  },
  {
   "cell_type": "code",
   "execution_count": null,
   "metadata": {},
   "outputs": [],
   "source": [
    "# cars.head()\n",
    "cars[\"seller_name\"] = cars[\"seller_name\"].str.split(\"-\").str[0].str.strip()"
   ]
  },
  {
   "cell_type": "code",
   "execution_count": 343,
   "metadata": {},
   "outputs": [
    {
     "data": {
      "text/html": [
       "<div>\n",
       "<style scoped>\n",
       "    .dataframe tbody tr th:only-of-type {\n",
       "        vertical-align: middle;\n",
       "    }\n",
       "\n",
       "    .dataframe tbody tr th {\n",
       "        vertical-align: top;\n",
       "    }\n",
       "\n",
       "    .dataframe thead th {\n",
       "        text-align: right;\n",
       "    }\n",
       "</style>\n",
       "<table border=\"1\" class=\"dataframe\">\n",
       "  <thead>\n",
       "    <tr style=\"text-align: right;\">\n",
       "      <th></th>\n",
       "      <th>name</th>\n",
       "      <th>year</th>\n",
       "      <th>owners</th>\n",
       "      <th>mileage</th>\n",
       "      <th>litres</th>\n",
       "      <th>BHP</th>\n",
       "      <th>transmission</th>\n",
       "      <th>fuel</th>\n",
       "      <th>price</th>\n",
       "      <th>write_off_category</th>\n",
       "      <th>vehicle_type</th>\n",
       "      <th>seller_name</th>\n",
       "      <th>location</th>\n",
       "      <th>plate</th>\n",
       "      <th>brand</th>\n",
       "    </tr>\n",
       "  </thead>\n",
       "  <tbody>\n",
       "    <tr>\n",
       "      <th>0</th>\n",
       "      <td>KIA Sportage</td>\n",
       "      <td>2018</td>\n",
       "      <td>NaN</td>\n",
       "      <td>23600.0</td>\n",
       "      <td>1.6L</td>\n",
       "      <td>174.0</td>\n",
       "      <td>Manual</td>\n",
       "      <td>Petrol</td>\n",
       "      <td>16990</td>\n",
       "      <td>GC</td>\n",
       "      <td>SUV</td>\n",
       "      <td>Belfast Audi</td>\n",
       "      <td>Belfast</td>\n",
       "      <td></td>\n",
       "      <td>KIA</td>\n",
       "    </tr>\n",
       "    <tr>\n",
       "      <th>1</th>\n",
       "      <td>Vauxhall Astra</td>\n",
       "      <td>2007</td>\n",
       "      <td>Part service history</td>\n",
       "      <td>119000.0</td>\n",
       "      <td>1.9L</td>\n",
       "      <td>118.0</td>\n",
       "      <td>Automatic</td>\n",
       "      <td>Diesel</td>\n",
       "      <td>995</td>\n",
       "      <td>GC</td>\n",
       "      <td>Hatchback</td>\n",
       "      <td>Burch Autos</td>\n",
       "      <td>Newtownards</td>\n",
       "      <td>57</td>\n",
       "      <td>Vauxhall</td>\n",
       "    </tr>\n",
       "    <tr>\n",
       "      <th>2</th>\n",
       "      <td>Citroen DS3</td>\n",
       "      <td>2012</td>\n",
       "      <td>NaN</td>\n",
       "      <td>75995.0</td>\n",
       "      <td>1.6L</td>\n",
       "      <td>156.0</td>\n",
       "      <td>Manual</td>\n",
       "      <td>Petrol</td>\n",
       "      <td>1493</td>\n",
       "      <td>GC</td>\n",
       "      <td>Hatchback</td>\n",
       "      <td>Auto Sales NI</td>\n",
       "      <td>Newtownabbey</td>\n",
       "      <td></td>\n",
       "      <td>Citroen</td>\n",
       "    </tr>\n",
       "  </tbody>\n",
       "</table>\n",
       "</div>"
      ],
      "text/plain": [
       "             name  year                owners   mileage litres    BHP  \\\n",
       "0    KIA Sportage  2018                   NaN   23600.0   1.6L  174.0   \n",
       "1  Vauxhall Astra  2007  Part service history  119000.0   1.9L  118.0   \n",
       "2     Citroen DS3  2012                   NaN   75995.0   1.6L  156.0   \n",
       "\n",
       "  transmission    fuel  price write_off_category vehicle_type    seller_name  \\\n",
       "0       Manual  Petrol  16990                 GC          SUV   Belfast Audi   \n",
       "1    Automatic  Diesel    995                 GC    Hatchback    Burch Autos   \n",
       "2       Manual  Petrol   1493                 GC    Hatchback  Auto Sales NI   \n",
       "\n",
       "       location plate     brand  \n",
       "0       Belfast             KIA  \n",
       "1   Newtownards    57  Vauxhall  \n",
       "2  Newtownabbey         Citroen  "
      ]
     },
     "execution_count": 343,
     "metadata": {},
     "output_type": "execute_result"
    }
   ],
   "source": [
    "cars.head(3)\n"
   ]
  },
  {
   "cell_type": "markdown",
   "metadata": {},
   "source": [
    "Owners"
   ]
  },
  {
   "cell_type": "code",
   "execution_count": 344,
   "metadata": {},
   "outputs": [
    {
     "data": {
      "text/plain": [
       "owners\n",
       "2 owners                   1751\n",
       "3 owners                   1458\n",
       "1 owner                     926\n",
       "4 owners                    902\n",
       "5 owners                    486\n",
       "Full service history        367\n",
       "6 owners                    234\n",
       "Part service history        227\n",
       "7 owners                    118\n",
       "8 owners                     68\n",
       "9 owners                     36\n",
       "Full dealership history      25\n",
       "No service history           25\n",
       "10 owners                    22\n",
       "12 owners                    13\n",
       "11 owners                    11\n",
       "15 owners                     4\n",
       "Full Service History          4\n",
       "14 owners                     3\n",
       "13 owners                     3\n",
       "17 owners                     1\n",
       "Name: count, dtype: int64"
      ]
     },
     "execution_count": 344,
     "metadata": {},
     "output_type": "execute_result"
    }
   ],
   "source": [
    "cars[\"owners\"].value_counts()\n"
   ]
  },
  {
   "cell_type": "code",
   "execution_count": 205,
   "metadata": {},
   "outputs": [
    {
     "data": {
      "text/plain": [
       "owners\n",
       "2 owners                      1751\n",
       "3 owners                      1458\n",
       "1 owner                        926\n",
       "4 owners                       902\n",
       "5 owners                       486\n",
       "Full service history           371\n",
       "6 owners                       234\n",
       "Part service history           232\n",
       "7 owners                       118\n",
       "8 owners                        68\n",
       "9 owners                        36\n",
       "Full dealership history         27\n",
       "No service history              26\n",
       "10 owners                       22\n",
       "12 owners                       13\n",
       "11 owners                       11\n",
       "15 owners                        4\n",
       "Full Service History             4\n",
       "14 owners                        3\n",
       "13 owners                        3\n",
       "Full manufacturer warranty       2\n",
       "17 owners                        1\n",
       "Part Service History             1\n",
       "Name: count, dtype: int64"
      ]
     },
     "execution_count": 205,
     "metadata": {},
     "output_type": "execute_result"
    }
   ],
   "source": [
    "\n",
    "cars[\"owners\"].value_counts()\n"
   ]
  },
  {
   "cell_type": "code",
   "execution_count": 345,
   "metadata": {},
   "outputs": [],
   "source": [
    "cars_comp = cars.drop(\"owners\", axis=1)"
   ]
  },
  {
   "cell_type": "code",
   "execution_count": 348,
   "metadata": {},
   "outputs": [
    {
     "name": "stdout",
     "output_type": "stream",
     "text": [
      "<class 'pandas.core.frame.DataFrame'>\n",
      "Index: 10228 entries, 0 to 29366\n",
      "Data columns (total 14 columns):\n",
      " #   Column              Non-Null Count  Dtype  \n",
      "---  ------              --------------  -----  \n",
      " 0   name                10228 non-null  object \n",
      " 1   year                10228 non-null  int32  \n",
      " 2   mileage             10228 non-null  float64\n",
      " 3   litres              10228 non-null  object \n",
      " 4   BHP                 10228 non-null  float64\n",
      " 5   transmission        10228 non-null  object \n",
      " 6   fuel                10228 non-null  object \n",
      " 7   price               10228 non-null  object \n",
      " 8   write_off_category  10228 non-null  object \n",
      " 9   vehicle_type        10228 non-null  object \n",
      " 10  seller_name         9533 non-null   object \n",
      " 11  location            8934 non-null   object \n",
      " 12  plate               10228 non-null  object \n",
      " 13  brand               10228 non-null  object \n",
      "dtypes: float64(2), int32(1), object(11)\n",
      "memory usage: 1.1+ MB\n"
     ]
    }
   ],
   "source": [
    "cars_comp.info()"
   ]
  },
  {
   "cell_type": "code",
   "execution_count": 350,
   "metadata": {},
   "outputs": [
    {
     "name": "stderr",
     "output_type": "stream",
     "text": [
      "C:\\Users\\Isaac\\AppData\\Local\\Temp\\ipykernel_27884\\1221624488.py:4: SettingWithCopyWarning: \n",
      "A value is trying to be set on a copy of a slice from a DataFrame.\n",
      "Try using .loc[row_indexer,col_indexer] = value instead\n",
      "\n",
      "See the caveats in the documentation: https://pandas.pydata.org/pandas-docs/stable/user_guide/indexing.html#returning-a-view-versus-a-copy\n",
      "  cars_own['owners'] = cars_own['owners'].fillna('')\n"
     ]
    }
   ],
   "source": [
    "cars_own = cars\n",
    "#remove if first letter is not a number \n",
    "# cars_own = cars_own[cars_own['owners'].str[0].apply(str.isnumeric)]\n",
    "cars_own['owners'] = cars_own['owners'].fillna('')\n",
    "\n",
    "cars_own = cars_own[cars_own['owners'].str.match(r'^\\d')]\n",
    "\n"
   ]
  },
  {
   "cell_type": "code",
   "execution_count": 351,
   "metadata": {},
   "outputs": [
    {
     "data": {
      "text/plain": [
       "owners\n",
       "2 owners     1751\n",
       "3 owners     1458\n",
       "1 owner       926\n",
       "4 owners      902\n",
       "5 owners      486\n",
       "6 owners      234\n",
       "7 owners      118\n",
       "8 owners       68\n",
       "9 owners       36\n",
       "10 owners      22\n",
       "12 owners      13\n",
       "11 owners      11\n",
       "15 owners       4\n",
       "14 owners       3\n",
       "13 owners       3\n",
       "17 owners       1\n",
       "Name: count, dtype: int64"
      ]
     },
     "execution_count": 351,
     "metadata": {},
     "output_type": "execute_result"
    }
   ],
   "source": [
    "cars_own[\"owners\"].value_counts()   "
   ]
  },
  {
   "cell_type": "code",
   "execution_count": 352,
   "metadata": {},
   "outputs": [
    {
     "name": "stderr",
     "output_type": "stream",
     "text": [
      "C:\\Users\\Isaac\\AppData\\Local\\Temp\\ipykernel_27884\\1621429340.py:1: SettingWithCopyWarning: \n",
      "A value is trying to be set on a copy of a slice from a DataFrame.\n",
      "Try using .loc[row_indexer,col_indexer] = value instead\n",
      "\n",
      "See the caveats in the documentation: https://pandas.pydata.org/pandas-docs/stable/user_guide/indexing.html#returning-a-view-versus-a-copy\n",
      "  cars_own[\"owners\"] = cars_own[\"owners\"].str[0].astype(int)\n"
     ]
    }
   ],
   "source": [
    "cars_own[\"owners\"] = cars_own[\"owners\"].str[0].astype(int)"
   ]
  },
  {
   "cell_type": "markdown",
   "metadata": {},
   "source": [
    "Exporting files to csv"
   ]
  },
  {
   "cell_type": "code",
   "execution_count": 353,
   "metadata": {},
   "outputs": [],
   "source": [
    "\n",
    "cars_own.to_csv(\"cars_own2.csv\")"
   ]
  },
  {
   "cell_type": "code",
   "execution_count": 349,
   "metadata": {},
   "outputs": [],
   "source": [
    "cars_comp.to_csv(\"cars_comp.csv\")"
   ]
  },
  {
   "cell_type": "markdown",
   "metadata": {},
   "source": []
  }
 ],
 "metadata": {
  "kernelspec": {
   "display_name": "Python 3",
   "language": "python",
   "name": "python3"
  },
  "language_info": {
   "codemirror_mode": {
    "name": "ipython",
    "version": 3
   },
   "file_extension": ".py",
   "mimetype": "text/x-python",
   "name": "python",
   "nbconvert_exporter": "python",
   "pygments_lexer": "ipython3",
   "version": "3.11.9"
  },
  "orig_nbformat": 4
 },
 "nbformat": 4,
 "nbformat_minor": 2
}
